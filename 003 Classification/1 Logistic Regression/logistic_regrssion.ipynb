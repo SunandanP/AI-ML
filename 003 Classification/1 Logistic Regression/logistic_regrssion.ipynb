{
 "cells": [
  {
   "cell_type": "code",
   "execution_count": 1,
   "outputs": [],
   "source": [
    "import numpy as np\n",
    "import pandas as pd\n",
    "import matplotlib.pyplot as plt"
   ],
   "metadata": {
    "collapsed": false,
    "ExecuteTime": {
     "end_time": "2023-12-20T19:11:19.038135500Z",
     "start_time": "2023-12-20T19:11:08.737874100Z"
    }
   }
  },
  {
   "cell_type": "code",
   "execution_count": 2,
   "outputs": [],
   "source": [
    "df = pd.read_csv(\"Social_Network_Ads.csv\")"
   ],
   "metadata": {
    "collapsed": false,
    "ExecuteTime": {
     "end_time": "2023-12-20T19:14:08.736328900Z",
     "start_time": "2023-12-20T19:14:07.628012600Z"
    }
   }
  },
  {
   "cell_type": "code",
   "execution_count": 3,
   "outputs": [
    {
     "data": {
      "text/plain": "     Age  EstimatedSalary  Purchased\n0     19            19000          0\n1     35            20000          0\n2     26            43000          0\n3     27            57000          0\n4     19            76000          0\n..   ...              ...        ...\n395   46            41000          1\n396   51            23000          1\n397   50            20000          1\n398   36            33000          0\n399   49            36000          1\n\n[400 rows x 3 columns]",
      "text/html": "<div>\n<style scoped>\n    .dataframe tbody tr th:only-of-type {\n        vertical-align: middle;\n    }\n\n    .dataframe tbody tr th {\n        vertical-align: top;\n    }\n\n    .dataframe thead th {\n        text-align: right;\n    }\n</style>\n<table border=\"1\" class=\"dataframe\">\n  <thead>\n    <tr style=\"text-align: right;\">\n      <th></th>\n      <th>Age</th>\n      <th>EstimatedSalary</th>\n      <th>Purchased</th>\n    </tr>\n  </thead>\n  <tbody>\n    <tr>\n      <th>0</th>\n      <td>19</td>\n      <td>19000</td>\n      <td>0</td>\n    </tr>\n    <tr>\n      <th>1</th>\n      <td>35</td>\n      <td>20000</td>\n      <td>0</td>\n    </tr>\n    <tr>\n      <th>2</th>\n      <td>26</td>\n      <td>43000</td>\n      <td>0</td>\n    </tr>\n    <tr>\n      <th>3</th>\n      <td>27</td>\n      <td>57000</td>\n      <td>0</td>\n    </tr>\n    <tr>\n      <th>4</th>\n      <td>19</td>\n      <td>76000</td>\n      <td>0</td>\n    </tr>\n    <tr>\n      <th>...</th>\n      <td>...</td>\n      <td>...</td>\n      <td>...</td>\n    </tr>\n    <tr>\n      <th>395</th>\n      <td>46</td>\n      <td>41000</td>\n      <td>1</td>\n    </tr>\n    <tr>\n      <th>396</th>\n      <td>51</td>\n      <td>23000</td>\n      <td>1</td>\n    </tr>\n    <tr>\n      <th>397</th>\n      <td>50</td>\n      <td>20000</td>\n      <td>1</td>\n    </tr>\n    <tr>\n      <th>398</th>\n      <td>36</td>\n      <td>33000</td>\n      <td>0</td>\n    </tr>\n    <tr>\n      <th>399</th>\n      <td>49</td>\n      <td>36000</td>\n      <td>1</td>\n    </tr>\n  </tbody>\n</table>\n<p>400 rows × 3 columns</p>\n</div>"
     },
     "execution_count": 3,
     "metadata": {},
     "output_type": "execute_result"
    }
   ],
   "source": [
    "df"
   ],
   "metadata": {
    "collapsed": false,
    "ExecuteTime": {
     "end_time": "2023-12-20T19:14:15.104101600Z",
     "start_time": "2023-12-20T19:14:14.807076700Z"
    }
   }
  },
  {
   "cell_type": "code",
   "execution_count": 6,
   "outputs": [],
   "source": [
    "x = df.iloc[:,:-1].values\n",
    "y = df.iloc[:,-1].values"
   ],
   "metadata": {
    "collapsed": false,
    "ExecuteTime": {
     "end_time": "2023-12-20T19:17:11.852900600Z",
     "start_time": "2023-12-20T19:17:11.817905700Z"
    }
   }
  },
  {
   "cell_type": "code",
   "execution_count": 4,
   "outputs": [],
   "source": [
    "from sklearn.model_selection import train_test_split"
   ],
   "metadata": {
    "collapsed": false,
    "ExecuteTime": {
     "end_time": "2023-12-20T19:15:55.335525600Z",
     "start_time": "2023-12-20T19:15:41.142716400Z"
    }
   }
  },
  {
   "cell_type": "code",
   "execution_count": 48,
   "outputs": [],
   "source": [
    "x_train, x_test, y_train, y_test = train_test_split(x,y)"
   ],
   "metadata": {
    "collapsed": false,
    "ExecuteTime": {
     "end_time": "2023-12-20T19:46:54.598060500Z",
     "start_time": "2023-12-20T19:46:54.584257300Z"
    }
   }
  },
  {
   "cell_type": "code",
   "execution_count": 14,
   "outputs": [
    {
     "data": {
      "text/plain": "array([[    23,  48000],\n       [    58,  23000],\n       [    27,  31000],\n       [    37,  57000],\n       [    28,  89000],\n       [    26, 118000],\n       [    53,  34000],\n       [    22,  81000],\n       [    55, 130000],\n       [    29,  83000],\n       [    27,  20000],\n       [    50,  20000],\n       [    48,  33000],\n       [    22,  63000],\n       [    24,  32000],\n       [    53,  82000],\n       [    35,  97000],\n       [    31,  89000],\n       [    40,  78000],\n       [    35,  79000],\n       [    33,  60000],\n       [    40, 142000],\n       [    24,  55000],\n       [    18,  68000],\n       [    36,  63000],\n       [    28,  84000],\n       [    40,  71000],\n       [    25,  79000],\n       [    48, 119000],\n       [    29,  80000],\n       [    26,  86000],\n       [    22,  55000],\n       [    52, 150000],\n       [    40,  61000],\n       [    28,  87000],\n       [    32,  18000],\n       [    38,  50000],\n       [    40, 107000],\n       [    40,  59000],\n       [    28,  44000],\n       [    30,  17000],\n       [    49, 141000],\n       [    48,  33000],\n       [    20,  23000],\n       [    40,  75000],\n       [    36, 126000],\n       [    18,  44000],\n       [    39, 106000],\n       [    46,  41000],\n       [    35,  47000],\n       [    34,  43000],\n       [    29,  47000],\n       [    26,  32000],\n       [    20,  36000],\n       [    34,  43000],\n       [    37,  70000],\n       [    46,  59000],\n       [    45,  32000],\n       [    42,  64000],\n       [    34,  72000],\n       [    37,  53000],\n       [    36,  99000],\n       [    29,  28000],\n       [    48, 141000],\n       [    39,  42000],\n       [    36, 118000],\n       [    49,  86000],\n       [    32, 120000],\n       [    44, 139000],\n       [    39,  61000],\n       [    31,  71000],\n       [    50,  36000],\n       [    53, 104000],\n       [    26,  16000],\n       [    20,  74000],\n       [    42,  54000],\n       [    38,  50000],\n       [    45,  22000],\n       [    52,  21000],\n       [    32,  86000],\n       [    35,  22000],\n       [    35,  38000],\n       [    39,  42000],\n       [    25,  90000],\n       [    27,  90000],\n       [    48, 134000],\n       [    37,  80000],\n       [    54,  26000],\n       [    35,  59000],\n       [    49,  39000],\n       [    20,  86000],\n       [    32, 117000],\n       [    33,  69000],\n       [    39, 134000],\n       [    41,  72000],\n       [    26,  17000],\n       [    27,  17000],\n       [    24,  89000],\n       [    37,  80000],\n       [    45,  45000]], dtype=int64)"
     },
     "execution_count": 14,
     "metadata": {},
     "output_type": "execute_result"
    }
   ],
   "source": [
    "x_test"
   ],
   "metadata": {
    "collapsed": false,
    "ExecuteTime": {
     "end_time": "2023-12-20T19:23:12.101210100Z",
     "start_time": "2023-12-20T19:23:12.076497Z"
    }
   }
  },
  {
   "cell_type": "code",
   "execution_count": 8,
   "outputs": [],
   "source": [
    "from sklearn.preprocessing import StandardScaler"
   ],
   "metadata": {
    "collapsed": false,
    "ExecuteTime": {
     "end_time": "2023-12-20T19:19:50.320374600Z",
     "start_time": "2023-12-20T19:19:50.310911200Z"
    }
   }
  },
  {
   "cell_type": "code",
   "execution_count": 49,
   "outputs": [],
   "source": [
    "scaler = StandardScaler()\n",
    "x_train = scaler.fit_transform(x_train)\n",
    "x_test = scaler.fit_transform(x_test)"
   ],
   "metadata": {
    "collapsed": false,
    "ExecuteTime": {
     "end_time": "2023-12-20T19:46:58.392318500Z",
     "start_time": "2023-12-20T19:46:58.376284200Z"
    }
   }
  },
  {
   "cell_type": "code",
   "execution_count": 16,
   "outputs": [
    {
     "data": {
      "text/plain": "array([[ 0.44587723,  1.22785521],\n       [-0.30665818, -1.34702997],\n       [-0.30665818,  0.1327891 ],\n       [-0.11852433,  0.19198186],\n       [-0.30665818, -0.28156024],\n       [ 0.16367645, -0.69590958],\n       [-0.96512666, -0.45913853],\n       [-1.24732744,  0.48794567],\n       [-0.96512666, -0.340753  ],\n       [-0.30665818, -0.60712044],\n       [-0.68292588,  1.4054335 ],\n       [-1.43546129,  0.33996377],\n       [ 0.82214493, -0.57752406],\n       [ 0.06960953,  1.52381902],\n       [ 0.06960953,  0.01440357],\n       [-0.30665818,  0.1327891 ],\n       [ 1.19841263,  2.23413218],\n       [ 0.82214493, -0.63671682],\n       [ 0.06960953,  0.07359634],\n       [-0.68292588, -0.07438557],\n       [ 0.91621186,  0.57673482],\n       [ 1.95094804,  0.16238548],\n       [-0.0244574 , -0.45913853],\n       [ 1.95094804,  0.51754206],\n       [-0.21259125, -0.48873491],\n       [ 0.82214493,  1.02068054],\n       [ 0.91621186, -1.19904807],\n       [-0.11852433,  0.04399995],\n       [-1.81172899,  0.16238548],\n       [ 1.48061341,  1.10946968],\n       [-1.52952821, -1.55420464],\n       [ 0.53994415, -0.93268063],\n       [-0.11852433,  2.23413218],\n       [-1.34139436, -0.37034939],\n       [ 1.01027878, -1.25824083],\n       [ 1.01027878,  0.10319272],\n       [-0.30665818, -0.60712044],\n       [-0.77699281, -0.25196386],\n       [-1.05919358,  0.51754206],\n       [ 0.16367645, -0.31115662],\n       [-0.21259125,  1.61260817],\n       [-1.05919358, -0.37034939],\n       [ 1.85688112,  0.72471673],\n       [-0.77699281, -0.63671682],\n       [-0.30665818,  0.01440357],\n       [-1.62359514, -0.07438557],\n       [-1.34139436, -1.28783721],\n       [-0.0244574 , -0.57752406],\n       [-0.0244574 ,  0.01440357],\n       [ 1.29247956,  1.99736113],\n       [-0.68292588,  0.16238548],\n       [ 1.29247956,  0.57673482],\n       [ 1.48061341,  0.99108416],\n       [-0.0244574 , -0.28156024],\n       [-0.68292588, -1.64299379],\n       [-0.30665818, -0.31115662],\n       [-0.49479203, -1.25824083],\n       [-0.30665818, -0.93268063],\n       [-0.30665818,  0.04399995],\n       [-0.11852433, -0.45913853],\n       [ 0.63401108,  0.25117462],\n       [-0.58885896,  2.3525177 ],\n       [ 0.72807801,  0.25117462],\n       [-0.4007251 ,  1.22785521],\n       [ 2.04501497, -0.72550596],\n       [ 0.72807801,  1.37583712],\n       [ 0.3518103 ,  0.57673482],\n       [-0.49479203, -0.87348787],\n       [ 0.82214493, -0.69590958],\n       [ 0.44587723,  1.84937922],\n       [ 0.25774338, -0.340753  ],\n       [ 0.3518103 , -0.51833129],\n       [ 0.16367645, -0.39994577],\n       [ 1.01027878,  0.54713844],\n       [-1.90579592, -0.54792767],\n       [ 1.01027878, -1.25824083],\n       [ 1.19841263, -1.40622274],\n       [ 1.01027878, -0.16317472],\n       [-1.81172899, -0.01519281],\n       [ 0.82214493, -1.40622274],\n       [-1.43546129, -1.49501188],\n       [-1.43546129, -0.13357833],\n       [-0.11852433, -0.25196386],\n       [ 0.3518103 ,  0.25117462],\n       [ 0.82214493, -0.60712044],\n       [ 0.63401108,  1.79018646],\n       [ 0.3518103 ,  0.07359634],\n       [-0.87105973,  0.36956015],\n       [-1.15326051,  0.31036739],\n       [-0.96512666,  0.25117462],\n       [-1.90579592,  0.33996377],\n       [ 0.25774338,  0.48794567],\n       [ 0.91621186,  0.75431311],\n       [-0.30665818,  0.51754206],\n       [-0.96512666, -1.1398553 ],\n       [-0.11852433,  0.01440357],\n       [ 1.38654649,  0.04399995],\n       [ 0.44587723,  1.73099369],\n       [-1.52952821, -1.28783721],\n       [-1.81172899, -1.52460826],\n       [-0.11852433,  0.25117462],\n       [-0.0244574 , -0.16317472],\n       [-0.0244574 ,  0.01440357],\n       [ 1.01027878, -1.02146978],\n       [-0.49479203, -1.16945168],\n       [ 1.01027878,  0.51754206],\n       [ 1.76281419, -1.11025892],\n       [ 0.25774338, -0.75510234],\n       [-1.15326051,  0.28077101],\n       [ 0.3518103 ,  0.28077101],\n       [ 0.82214493, -1.49501188],\n       [ 0.06960953,  0.25117462],\n       [ 0.72807801,  0.75431311],\n       [-1.24732744, -1.11025892],\n       [ 1.85688112,  0.90229501],\n       [-0.11852433,  2.17493942],\n       [ 0.63401108, -1.43581912],\n       [-1.81172899, -1.31743359],\n       [-0.0244574 ,  0.28077101],\n       [-1.81172899, -1.4654155 ],\n       [ 0.16367645,  0.1327891 ],\n       [-1.24732744,  0.28077101],\n       [ 0.25774338,  0.28077101],\n       [-0.0244574 ,  1.25745159],\n       [-0.49479203, -0.57752406],\n       [ 0.91621186,  1.99736113],\n       [-0.30665818,  0.6063312 ],\n       [-0.11852433,  0.22157824],\n       [-0.30665818, -1.49501188],\n       [ 1.10434571,  0.51754206],\n       [ 0.25774338,  0.04399995],\n       [ 0.3518103 ,  0.99108416],\n       [-0.30665818,  1.10946968],\n       [-1.43546129, -0.22236748],\n       [-1.62359514,  0.04399995],\n       [-0.30665818, -0.16317472],\n       [-1.90579592,  0.45834929],\n       [-0.77699281,  0.28077101],\n       [-0.58885896, -1.55420464],\n       [-1.71766206,  0.33996377],\n       [ 0.16367645, -0.39994577],\n       [-0.30665818, -0.78469873],\n       [ 1.95094804,  2.14534303],\n       [-0.68292588, -1.08066254],\n       [ 0.06960953,  0.75431311],\n       [ 1.19841263,  1.8789756 ],\n       [ 2.04501497,  0.36956015],\n       [-0.11852433,  0.66552396],\n       [ 0.25774338,  0.04399995],\n       [-0.30665818, -0.51833129],\n       [-0.68292588, -1.55420464],\n       [-0.87105973, -0.81429511],\n       [ 0.82214493,  1.0798733 ],\n       [-1.05919358, -0.37034939],\n       [ 2.04501497, -0.84389149],\n       [-0.68292588, -0.37034939],\n       [ 1.29247956,  1.28704797],\n       [ 2.04501497,  1.10946968],\n       [ 1.95094804,  1.76059008],\n       [-0.68292588,  0.10319272],\n       [-0.77699281,  1.0798733 ],\n       [ 0.72807801,  0.51754206],\n       [-1.62359514,  0.51754206],\n       [ 1.85688112, -0.69590958],\n       [ 0.06960953,  1.8789756 ],\n       [ 0.3518103 , -0.16317472],\n       [-0.21259125, -0.60712044],\n       [ 0.25774338, -1.19904807],\n       [-0.0244574 , -0.340753  ],\n       [-0.21259125,  2.17493942],\n       [ 0.72807801,  0.10319272],\n       [-0.87105973, -0.81429511],\n       [ 0.82214493, -0.81429511],\n       [ 0.3518103 , -0.16317472],\n       [-0.30665818, -0.37034939],\n       [-0.96512666,  0.42875291],\n       [ 0.72807801, -1.43581912],\n       [-0.4007251 , -1.34702997],\n       [ 0.91621186, -1.05106616],\n       [-1.34139436, -0.45913853],\n       [-0.96512666, -0.340753  ],\n       [-0.30665818, -1.40622274],\n       [ 0.82214493, -1.19904807],\n       [-1.34139436, -1.52460826],\n       [ 0.25774338, -0.54792767],\n       [ 1.57468034,  1.61260817],\n       [ 0.72807801,  0.33996377],\n       [ 0.72807801, -1.1398553 ],\n       [-1.24732744, -1.43581912],\n       [-0.21259125, -1.11025892],\n       [ 0.82214493,  1.25745159],\n       [ 0.82214493, -1.34702997],\n       [ 1.76281419,  1.52381902],\n       [-1.15326051,  0.39915653],\n       [-0.77699281,  0.25117462],\n       [ 2.04501497, -1.08066254],\n       [ 0.3518103 , -0.01519281],\n       [-1.15326051, -1.19904807],\n       [ 0.91621186,  0.10319272],\n       [-1.05919358,  0.75431311],\n       [ 2.04501497, -0.84389149],\n       [-0.30665818, -0.39994577],\n       [-0.0244574 , -0.28156024],\n       [-1.15326051, -0.81429511],\n       [-0.11852433, -1.11025892],\n       [-1.05919358,  1.96776475],\n       [ 0.91621186, -0.87348787],\n       [-1.05919358,  0.54713844],\n       [-1.15326051,  0.28077101],\n       [ 0.06960953,  0.01440357],\n       [ 1.29247956, -0.96227701],\n       [-0.87105973, -0.28156024],\n       [-0.96512666, -0.9918734 ],\n       [-0.58885896,  0.87269863],\n       [ 0.3518103 , -0.48873491],\n       [-0.96512666,  1.55341541],\n       [ 0.25774338,  0.01440357],\n       [-1.05919358, -0.39994577],\n       [-0.30665818,  0.04399995],\n       [-1.15326051, -1.64299379],\n       [ 0.25774338,  0.25117462],\n       [ 2.04501497,  0.9318914 ],\n       [ 0.25774338,  0.04399995],\n       [-0.11852433,  1.96776475],\n       [-0.58885896,  1.90857198],\n       [-0.11852433,  0.1327891 ],\n       [ 0.72807801, -1.25824083],\n       [-0.30665818, -1.28783721],\n       [ 0.3518103 ,  0.1327891 ],\n       [ 1.76281419, -1.31743359],\n       [-0.87105973,  0.1327891 ],\n       [-0.30665818,  0.19198186],\n       [-0.21259125, -0.54792767],\n       [-1.15326051, -1.64299379],\n       [-0.49479203,  2.32292132],\n       [ 0.82214493, -1.08066254],\n       [-0.49479203,  1.25745159],\n       [ 0.16367645, -0.16317472],\n       [-0.11852433,  0.10319272],\n       [-1.05919358, -0.48873491],\n       [ 0.63401108, -1.31743359],\n       [-0.30665818, -0.45913853],\n       [-0.77699281,  1.90857198],\n       [ 1.57468034, -0.93268063],\n       [-1.34139436, -1.40622274],\n       [-1.81172899, -1.34702997],\n       [-1.62359514, -1.61339741],\n       [-0.21259125, -0.31115662],\n       [-1.71766206,  0.33996377],\n       [ 1.85688112, -0.96227701],\n       [ 0.72807801, -1.40622274],\n       [ 0.91621186,  1.79018646],\n       [-0.87105973,  2.29332494],\n       [ 1.95094804,  0.36956015],\n       [-0.0244574 ,  1.22785521],\n       [ 1.10434571, -0.78469873],\n       [-0.21259125,  0.1327891 ],\n       [-0.68292588, -0.13357833],\n       [ 1.38654649,  2.14534303],\n       [-1.05919358,  0.39915653],\n       [-1.15326051, -0.54792767],\n       [-1.34139436,  0.39915653],\n       [ 1.66874726,  0.99108416],\n       [ 0.06960953,  0.19198186],\n       [ 1.76281419,  0.10319272],\n       [-1.71766206, -0.63671682],\n       [ 1.76281419, -0.31115662],\n       [ 0.16367645, -0.39994577],\n       [-0.58885896,  1.37583712],\n       [-0.30665818,  0.07359634],\n       [ 0.3518103 ,  1.10946968],\n       [-0.77699281,  0.48794567],\n       [-1.43546129, -1.25824083],\n       [ 0.3518103 ,  0.28077101],\n       [-0.49479203, -0.81429511],\n       [ 0.91621186, -1.22864445],\n       [ 0.25774338, -0.54792767],\n       [-1.81172899,  0.42875291],\n       [-1.15326051, -1.05106616],\n       [-0.4007251 ,  1.31664435],\n       [ 1.95094804, -0.84389149],\n       [ 0.25774338, -0.22236748],\n       [-0.30665818,  2.26372856],\n       [-0.11852433, -0.54792767],\n       [ 0.25774338, -0.57752406],\n       [ 0.25774338, -0.31115662],\n       [ 0.3518103 ,  2.32292132],\n       [-0.77699281,  1.34624074],\n       [ 1.95094804, -1.22864445],\n       [-0.77699281,  0.54713844],\n       [ 0.06960953,  0.1327891 ],\n       [-0.77699281, -1.64299379],\n       [ 0.82214493,  2.17493942],\n       [ 1.48061341, -0.01519281],\n       [-1.15326051,  0.04399995],\n       [ 0.16367645,  0.04399995],\n       [ 1.66874726, -0.31115662],\n       [ 1.85688112,  2.17493942],\n       [ 0.06960953, -0.340753  ],\n       [ 1.66874726,  1.84937922]])"
     },
     "execution_count": 16,
     "metadata": {},
     "output_type": "execute_result"
    }
   ],
   "source": [
    "x_train"
   ],
   "metadata": {
    "collapsed": false,
    "ExecuteTime": {
     "end_time": "2023-12-20T19:23:20.322397600Z",
     "start_time": "2023-12-20T19:23:20.295660200Z"
    }
   }
  },
  {
   "cell_type": "code",
   "execution_count": 17,
   "outputs": [
    {
     "data": {
      "text/plain": "array([[-1.31711776, -0.55931676],\n       [ 2.2731565 , -1.2789729 ],\n       [-0.9068007 , -1.04868294],\n       [ 0.11899195, -0.30024054],\n       [-0.80422143,  0.62091932],\n       [-1.00937996,  1.45572045],\n       [ 1.76026018, -0.9623242 ],\n       [-1.41969702,  0.39062936],\n       [ 1.96541871,  1.8011554 ],\n       [-0.70164217,  0.44820185],\n       [-0.9068007 , -1.36533164],\n       [ 1.45252239, -1.36533164],\n       [ 1.24736386, -0.99111044],\n       [-1.41969702, -0.12752307],\n       [-1.21453849, -1.01989669],\n       [ 1.76026018,  0.4194156 ],\n       [-0.08616658,  0.85120929],\n       [-0.49648364,  0.62091932],\n       [ 0.42672974,  0.30427062],\n       [-0.08616658,  0.33305686],\n       [-0.29132511, -0.21388181],\n       [ 0.42672974,  2.14659035],\n       [-1.21453849, -0.35781304],\n       [-1.83001408,  0.01640816],\n       [ 0.01641268, -0.12752307],\n       [-0.80422143,  0.47698809],\n       [ 0.42672974,  0.1027669 ],\n       [-1.11195923,  0.33305686],\n       [ 1.24736386,  1.4845067 ],\n       [-0.70164217,  0.36184311],\n       [-1.00937996,  0.53456059],\n       [-1.41969702, -0.35781304],\n       [ 1.65768092,  2.37688032],\n       [ 0.42672974, -0.18509556],\n       [-0.80422143,  0.56334683],\n       [-0.39390438, -1.42290413],\n       [ 0.22157121, -0.50174427],\n       [ 0.42672974,  1.13907175],\n       [ 0.42672974, -0.24266805],\n       [-0.80422143, -0.67446174],\n       [-0.59906291, -1.45169038],\n       [ 1.34994312,  2.11780411],\n       [ 1.24736386, -0.99111044],\n       [-1.62485555, -1.2789729 ],\n       [ 0.42672974,  0.21791188],\n       [ 0.01641268,  1.68601042],\n       [-1.83001408, -0.67446174],\n       [ 0.32415048,  1.1102855 ],\n       [ 1.04220533, -0.76082048],\n       [-0.08616658, -0.588103  ],\n       [-0.18874585, -0.70324799],\n       [-0.70164217, -0.588103  ],\n       [-1.00937996, -1.01989669],\n       [-1.62485555, -0.90475171],\n       [-0.18874585, -0.70324799],\n       [ 0.11899195,  0.07398065],\n       [ 1.04220533, -0.24266805],\n       [ 0.93962606, -1.01989669],\n       [ 0.63188827, -0.09873682],\n       [-0.18874585,  0.13155314],\n       [ 0.11899195, -0.41538553],\n       [ 0.01641268,  0.90878178],\n       [-0.70164217, -1.13504167],\n       [ 1.24736386,  2.11780411],\n       [ 0.32415048, -0.73203423],\n       [ 0.01641268,  1.45572045],\n       [ 1.34994312,  0.53456059],\n       [-0.39390438,  1.51329294],\n       [ 0.8370468 ,  2.06023162],\n       [ 0.32415048, -0.18509556],\n       [-0.49648364,  0.1027669 ],\n       [ 1.45252239, -0.90475171],\n       [ 1.76026018,  1.05271301],\n       [-1.00937996, -1.48047662],\n       [-1.62485555,  0.18912564],\n       [ 0.63188827, -0.38659928],\n       [ 0.22157121, -0.50174427],\n       [ 0.93962606, -1.30775915],\n       [ 1.65768092, -1.3365454 ],\n       [-0.39390438,  0.53456059],\n       [-0.08616658, -1.30775915],\n       [-0.08616658, -0.84717922],\n       [ 0.32415048, -0.73203423],\n       [-1.11195923,  0.64970557],\n       [-0.9068007 ,  0.64970557],\n       [ 1.24736386,  1.91630039],\n       [ 0.11899195,  0.36184311],\n       [ 1.86283945, -1.19261417],\n       [-0.08616658, -0.24266805],\n       [ 1.34994312, -0.81839297],\n       [-1.62485555,  0.53456059],\n       [-0.39390438,  1.42693421],\n       [-0.29132511,  0.04519441],\n       [ 0.32415048,  1.91630039],\n       [ 0.52930901,  0.13155314],\n       [-1.00937996, -1.45169038],\n       [-0.9068007 , -1.45169038],\n       [-1.21453849,  0.62091932],\n       [ 0.11899195,  0.36184311],\n       [ 0.93962606, -0.64567549]])"
     },
     "execution_count": 17,
     "metadata": {},
     "output_type": "execute_result"
    }
   ],
   "source": [
    "x_test"
   ],
   "metadata": {
    "collapsed": false,
    "ExecuteTime": {
     "end_time": "2023-12-20T19:23:31.931592800Z",
     "start_time": "2023-12-20T19:23:31.921990900Z"
    }
   }
  },
  {
   "cell_type": "code",
   "execution_count": 18,
   "outputs": [],
   "source": [
    "from sklearn.linear_model import LogisticRegression"
   ],
   "metadata": {
    "collapsed": false,
    "ExecuteTime": {
     "end_time": "2023-12-20T19:26:39.894874Z",
     "start_time": "2023-12-20T19:26:39.001363400Z"
    }
   }
  },
  {
   "cell_type": "code",
   "execution_count": 19,
   "outputs": [],
   "source": [
    "regressor = LogisticRegression()"
   ],
   "metadata": {
    "collapsed": false,
    "ExecuteTime": {
     "end_time": "2023-12-20T19:26:54.226116900Z",
     "start_time": "2023-12-20T19:26:54.209482200Z"
    }
   }
  },
  {
   "cell_type": "code",
   "execution_count": 20,
   "outputs": [
    {
     "data": {
      "text/plain": "LogisticRegression()",
      "text/html": "<style>#sk-container-id-1 {color: black;}#sk-container-id-1 pre{padding: 0;}#sk-container-id-1 div.sk-toggleable {background-color: white;}#sk-container-id-1 label.sk-toggleable__label {cursor: pointer;display: block;width: 100%;margin-bottom: 0;padding: 0.3em;box-sizing: border-box;text-align: center;}#sk-container-id-1 label.sk-toggleable__label-arrow:before {content: \"▸\";float: left;margin-right: 0.25em;color: #696969;}#sk-container-id-1 label.sk-toggleable__label-arrow:hover:before {color: black;}#sk-container-id-1 div.sk-estimator:hover label.sk-toggleable__label-arrow:before {color: black;}#sk-container-id-1 div.sk-toggleable__content {max-height: 0;max-width: 0;overflow: hidden;text-align: left;background-color: #f0f8ff;}#sk-container-id-1 div.sk-toggleable__content pre {margin: 0.2em;color: black;border-radius: 0.25em;background-color: #f0f8ff;}#sk-container-id-1 input.sk-toggleable__control:checked~div.sk-toggleable__content {max-height: 200px;max-width: 100%;overflow: auto;}#sk-container-id-1 input.sk-toggleable__control:checked~label.sk-toggleable__label-arrow:before {content: \"▾\";}#sk-container-id-1 div.sk-estimator input.sk-toggleable__control:checked~label.sk-toggleable__label {background-color: #d4ebff;}#sk-container-id-1 div.sk-label input.sk-toggleable__control:checked~label.sk-toggleable__label {background-color: #d4ebff;}#sk-container-id-1 input.sk-hidden--visually {border: 0;clip: rect(1px 1px 1px 1px);clip: rect(1px, 1px, 1px, 1px);height: 1px;margin: -1px;overflow: hidden;padding: 0;position: absolute;width: 1px;}#sk-container-id-1 div.sk-estimator {font-family: monospace;background-color: #f0f8ff;border: 1px dotted black;border-radius: 0.25em;box-sizing: border-box;margin-bottom: 0.5em;}#sk-container-id-1 div.sk-estimator:hover {background-color: #d4ebff;}#sk-container-id-1 div.sk-parallel-item::after {content: \"\";width: 100%;border-bottom: 1px solid gray;flex-grow: 1;}#sk-container-id-1 div.sk-label:hover label.sk-toggleable__label {background-color: #d4ebff;}#sk-container-id-1 div.sk-serial::before {content: \"\";position: absolute;border-left: 1px solid gray;box-sizing: border-box;top: 0;bottom: 0;left: 50%;z-index: 0;}#sk-container-id-1 div.sk-serial {display: flex;flex-direction: column;align-items: center;background-color: white;padding-right: 0.2em;padding-left: 0.2em;position: relative;}#sk-container-id-1 div.sk-item {position: relative;z-index: 1;}#sk-container-id-1 div.sk-parallel {display: flex;align-items: stretch;justify-content: center;background-color: white;position: relative;}#sk-container-id-1 div.sk-item::before, #sk-container-id-1 div.sk-parallel-item::before {content: \"\";position: absolute;border-left: 1px solid gray;box-sizing: border-box;top: 0;bottom: 0;left: 50%;z-index: -1;}#sk-container-id-1 div.sk-parallel-item {display: flex;flex-direction: column;z-index: 1;position: relative;background-color: white;}#sk-container-id-1 div.sk-parallel-item:first-child::after {align-self: flex-end;width: 50%;}#sk-container-id-1 div.sk-parallel-item:last-child::after {align-self: flex-start;width: 50%;}#sk-container-id-1 div.sk-parallel-item:only-child::after {width: 0;}#sk-container-id-1 div.sk-dashed-wrapped {border: 1px dashed gray;margin: 0 0.4em 0.5em 0.4em;box-sizing: border-box;padding-bottom: 0.4em;background-color: white;}#sk-container-id-1 div.sk-label label {font-family: monospace;font-weight: bold;display: inline-block;line-height: 1.2em;}#sk-container-id-1 div.sk-label-container {text-align: center;}#sk-container-id-1 div.sk-container {/* jupyter's `normalize.less` sets `[hidden] { display: none; }` but bootstrap.min.css set `[hidden] { display: none !important; }` so we also need the `!important` here to be able to override the default hidden behavior on the sphinx rendered scikit-learn.org. See: https://github.com/scikit-learn/scikit-learn/issues/21755 */display: inline-block !important;position: relative;}#sk-container-id-1 div.sk-text-repr-fallback {display: none;}</style><div id=\"sk-container-id-1\" class=\"sk-top-container\"><div class=\"sk-text-repr-fallback\"><pre>LogisticRegression()</pre><b>In a Jupyter environment, please rerun this cell to show the HTML representation or trust the notebook. <br />On GitHub, the HTML representation is unable to render, please try loading this page with nbviewer.org.</b></div><div class=\"sk-container\" hidden><div class=\"sk-item\"><div class=\"sk-estimator sk-toggleable\"><input class=\"sk-toggleable__control sk-hidden--visually\" id=\"sk-estimator-id-1\" type=\"checkbox\" checked><label for=\"sk-estimator-id-1\" class=\"sk-toggleable__label sk-toggleable__label-arrow\">LogisticRegression</label><div class=\"sk-toggleable__content\"><pre>LogisticRegression()</pre></div></div></div></div></div>"
     },
     "execution_count": 20,
     "metadata": {},
     "output_type": "execute_result"
    }
   ],
   "source": [
    "regressor.fit(x_train, y_train)"
   ],
   "metadata": {
    "collapsed": false,
    "ExecuteTime": {
     "end_time": "2023-12-20T19:27:10.896198200Z",
     "start_time": "2023-12-20T19:27:10.379447700Z"
    }
   }
  },
  {
   "cell_type": "code",
   "execution_count": 50,
   "outputs": [],
   "source": [
    "y_pred = regressor.predict(x_test)"
   ],
   "metadata": {
    "collapsed": false,
    "ExecuteTime": {
     "end_time": "2023-12-20T19:47:22.654379700Z",
     "start_time": "2023-12-20T19:47:22.638377Z"
    }
   }
  },
  {
   "cell_type": "code",
   "execution_count": 51,
   "outputs": [
    {
     "data": {
      "text/plain": "array([0, 0, 1, 1, 0, 0, 0, 1, 0, 0, 1, 1, 0, 0, 0, 0, 0, 1, 1, 1, 1, 0,\n       1, 1, 1, 1, 0, 0, 0, 1, 0, 0, 1, 0, 0, 0, 0, 0, 0, 1, 0, 1, 0, 0,\n       1, 1, 0, 0, 0, 0, 1, 1, 1, 0, 0, 0, 0, 0, 0, 0, 1, 0, 0, 1, 0, 0,\n       0, 0, 0, 1, 1, 0, 0, 0, 1, 0, 0, 0, 0, 0, 0, 1, 0, 0, 0, 0, 1, 1,\n       1, 0, 0, 1, 1, 0, 0, 1, 0, 0, 0, 0], dtype=int64)"
     },
     "execution_count": 51,
     "metadata": {},
     "output_type": "execute_result"
    }
   ],
   "source": [
    "y_pred"
   ],
   "metadata": {
    "collapsed": false,
    "ExecuteTime": {
     "end_time": "2023-12-20T19:47:25.426577800Z",
     "start_time": "2023-12-20T19:47:25.394772900Z"
    }
   }
  },
  {
   "cell_type": "code",
   "execution_count": 27,
   "outputs": [
    {
     "data": {
      "text/plain": "array([0], dtype=int64)"
     },
     "execution_count": 27,
     "metadata": {},
     "output_type": "execute_result"
    }
   ],
   "source": [
    "regressor.predict(scaler.fit_transform([[30,87000]]))"
   ],
   "metadata": {
    "collapsed": false,
    "ExecuteTime": {
     "end_time": "2023-12-20T19:33:56.826263500Z",
     "start_time": "2023-12-20T19:33:56.820595900Z"
    }
   }
  },
  {
   "cell_type": "code",
   "execution_count": 53,
   "outputs": [],
   "source": [
    "y_test = y_test.reshape(len(y_test), 1)"
   ],
   "metadata": {
    "collapsed": false,
    "ExecuteTime": {
     "end_time": "2023-12-20T19:47:36.235378400Z",
     "start_time": "2023-12-20T19:47:36.224368500Z"
    }
   }
  },
  {
   "cell_type": "code",
   "execution_count": 55,
   "outputs": [],
   "source": [
    "y_pred = y_pred.reshape(len(y_pred), 1)"
   ],
   "metadata": {
    "collapsed": false,
    "ExecuteTime": {
     "end_time": "2023-12-20T19:47:41.019850800Z",
     "start_time": "2023-12-20T19:47:40.972334800Z"
    }
   }
  },
  {
   "cell_type": "code",
   "execution_count": 60,
   "outputs": [],
   "source": [
    "verdict = np.concatenate((y_test, y_pred), axis=1)"
   ],
   "metadata": {
    "collapsed": false,
    "ExecuteTime": {
     "end_time": "2023-12-20T19:49:30.544372800Z",
     "start_time": "2023-12-20T19:49:30.539379800Z"
    }
   }
  },
  {
   "cell_type": "code",
   "execution_count": 61,
   "outputs": [
    {
     "data": {
      "text/plain": "array([[0, 0],\n       [0, 0],\n       [0, 1],\n       [1, 1],\n       [0, 0],\n       [0, 0],\n       [0, 0],\n       [1, 1],\n       [0, 0],\n       [0, 0],\n       [1, 1],\n       [1, 1],\n       [1, 0],\n       [0, 0],\n       [0, 0],\n       [0, 0],\n       [1, 0],\n       [1, 1],\n       [1, 1],\n       [1, 1],\n       [1, 1],\n       [0, 0],\n       [1, 1],\n       [1, 1],\n       [1, 1],\n       [1, 1],\n       [0, 0],\n       [0, 0],\n       [1, 0],\n       [0, 1],\n       [0, 0],\n       [0, 0],\n       [1, 1],\n       [0, 0],\n       [0, 0],\n       [0, 0],\n       [0, 0],\n       [0, 0],\n       [0, 0],\n       [1, 1],\n       [0, 0],\n       [1, 1],\n       [0, 0],\n       [0, 0],\n       [1, 1],\n       [1, 1],\n       [0, 0],\n       [0, 0],\n       [0, 0],\n       [0, 0],\n       [0, 1],\n       [1, 1],\n       [1, 1],\n       [0, 0],\n       [0, 0],\n       [0, 0],\n       [0, 0],\n       [0, 0],\n       [0, 0],\n       [0, 0],\n       [1, 1],\n       [0, 0],\n       [0, 0],\n       [0, 1],\n       [0, 0],\n       [0, 0],\n       [1, 0],\n       [0, 0],\n       [1, 0],\n       [1, 1],\n       [1, 1],\n       [1, 0],\n       [0, 0],\n       [0, 0],\n       [1, 1],\n       [0, 0],\n       [1, 0],\n       [0, 0],\n       [0, 0],\n       [0, 0],\n       [0, 0],\n       [1, 1],\n       [0, 0],\n       [0, 0],\n       [0, 0],\n       [0, 0],\n       [0, 1],\n       [1, 1],\n       [1, 1],\n       [0, 0],\n       [0, 0],\n       [1, 1],\n       [1, 1],\n       [0, 0],\n       [0, 0],\n       [1, 1],\n       [0, 0],\n       [0, 0],\n       [0, 0],\n       [0, 0]], dtype=int64)"
     },
     "execution_count": 61,
     "metadata": {},
     "output_type": "execute_result"
    }
   ],
   "source": [
    "verdict"
   ],
   "metadata": {
    "collapsed": false,
    "ExecuteTime": {
     "end_time": "2023-12-20T19:49:32.584612900Z",
     "start_time": "2023-12-20T19:49:32.552694900Z"
    }
   }
  },
  {
   "cell_type": "markdown",
   "source": [
    "## Confusion Matrix"
   ],
   "metadata": {
    "collapsed": false
   }
  },
  {
   "cell_type": "code",
   "execution_count": 65,
   "outputs": [],
   "source": [
    "from sklearn.metrics import classification_report, confusion_matrix"
   ],
   "metadata": {
    "collapsed": false,
    "ExecuteTime": {
     "end_time": "2023-12-20T19:53:27.518549200Z",
     "start_time": "2023-12-20T19:53:27.508010600Z"
    }
   }
  },
  {
   "cell_type": "code",
   "execution_count": 64,
   "outputs": [
    {
     "name": "stdout",
     "output_type": "stream",
     "text": [
      "              precision    recall  f1-score   support\n",
      "\n",
      "           0       0.89      0.92      0.91        64\n",
      "           1       0.85      0.81      0.83        36\n",
      "\n",
      "    accuracy                           0.88       100\n",
      "   macro avg       0.87      0.86      0.87       100\n",
      "weighted avg       0.88      0.88      0.88       100\n",
      "\n"
     ]
    }
   ],
   "source": [
    "print(classification_report(y_true=y_test, y_pred=y_pred))"
   ],
   "metadata": {
    "collapsed": false,
    "ExecuteTime": {
     "end_time": "2023-12-20T19:52:34.129672600Z",
     "start_time": "2023-12-20T19:52:34.013507400Z"
    }
   }
  },
  {
   "cell_type": "code",
   "execution_count": 66,
   "outputs": [
    {
     "data": {
      "text/plain": "array([[59,  5],\n       [ 7, 29]], dtype=int64)"
     },
     "execution_count": 66,
     "metadata": {},
     "output_type": "execute_result"
    }
   ],
   "source": [
    "confusion_matrix(y_true=y_test, y_pred=y_pred)"
   ],
   "metadata": {
    "collapsed": false,
    "ExecuteTime": {
     "end_time": "2023-12-20T19:53:52.251466500Z",
     "start_time": "2023-12-20T19:53:52.200785300Z"
    }
   }
  },
  {
   "cell_type": "code",
   "execution_count": null,
   "outputs": [],
   "source": [
    "from matplotlib.colors import ListedColormap\n",
    "X_set, y_set = scaler.inverse_transform(x_train), y_train\n",
    "X1, X2 = np.meshgrid(np.arange(start = X_set[:, 0].min() - 10, stop = X_set[:, 0].max() + 10, step = 0.25),\n",
    "                     np.arange(start = X_set[:, 1].min() - 1000, stop = X_set[:, 1].max() + 1000, step = 0.25))\n",
    "plt.contourf(X1, X2, regressor.predict(scaler.transform(np.array([X1.ravel(), X2.ravel()]).T)).reshape(X1.shape),\n",
    "             alpha = 0.75, cmap = ListedColormap(('red', 'green')))\n",
    "plt.xlim(X1.min(), X1.max())\n",
    "plt.ylim(X2.min(), X2.max())\n",
    "for i, j in enumerate(np.unique(y_set)):\n",
    "    plt.scatter(X_set[y_set == j, 0], X_set[y_set == j, 1], c = ListedColormap(('red', 'green'))(i), label = j)\n",
    "plt.title('Logistic Regression (Training set)')\n",
    "plt.xlabel('Age')\n",
    "plt.ylabel('Estimated Salary')\n",
    "plt.legend()\n",
    "plt.show()a"
   ],
   "metadata": {
    "collapsed": false,
    "is_executing": true,
    "ExecuteTime": {
     "start_time": "2023-12-20T20:06:36.491288Z"
    }
   }
  }
 ],
 "metadata": {
  "kernelspec": {
   "display_name": "Python 3",
   "language": "python",
   "name": "python3"
  },
  "language_info": {
   "codemirror_mode": {
    "name": "ipython",
    "version": 2
   },
   "file_extension": ".py",
   "mimetype": "text/x-python",
   "name": "python",
   "nbconvert_exporter": "python",
   "pygments_lexer": "ipython2",
   "version": "2.7.6"
  }
 },
 "nbformat": 4,
 "nbformat_minor": 0
}
