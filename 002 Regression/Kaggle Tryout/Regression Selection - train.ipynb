{
 "cells": [
  {
   "cell_type": "code",
   "execution_count": 1,
   "outputs": [],
   "source": [
    "import numpy as np\n",
    "import pandas as pd\n",
    "import matplotlib.pyplot as plt"
   ],
   "metadata": {
    "collapsed": false,
    "ExecuteTime": {
     "end_time": "2023-12-20T18:17:52.000122500Z",
     "start_time": "2023-12-20T18:17:51.040679300Z"
    }
   }
  },
  {
   "cell_type": "code",
   "execution_count": 2,
   "outputs": [],
   "source": [
    "df = pd.read_csv(\"train.csv\")"
   ],
   "metadata": {
    "collapsed": false,
    "ExecuteTime": {
     "end_time": "2023-12-20T18:17:52.168130100Z",
     "start_time": "2023-12-20T18:17:52.000122500Z"
    }
   }
  },
  {
   "cell_type": "code",
   "execution_count": 3,
   "outputs": [
    {
     "data": {
      "text/plain": "            id  carat        cut color clarity  depth  table     x     y  \\\n0            0   1.52    Premium     F     VS2   62.2   58.0  7.27  7.33   \n1            1   2.03  Very Good     J     SI2   62.0   58.0  8.06  8.12   \n2            2   0.70      Ideal     G     VS1   61.2   57.0  5.69  5.73   \n3            3   0.32      Ideal     G     VS1   61.6   56.0  4.38  4.41   \n4            4   1.70    Premium     G     VS2   62.6   59.0  7.65  7.61   \n...        ...    ...        ...   ...     ...    ...    ...   ...   ...   \n193568  193568   0.31      Ideal     D    VVS2   61.1   56.0  4.35  4.39   \n193569  193569   0.70    Premium     G    VVS2   60.3   58.0  5.75  5.77   \n193570  193570   0.73  Very Good     F     SI1   63.1   57.0  5.72  5.75   \n193571  193571   0.34  Very Good     D     SI1   62.9   55.0  4.45  4.49   \n193572  193572   0.71       Good     E     SI2   60.8   64.0  5.73  5.71   \n\n           z  price  \n0       4.55  13619  \n1       5.05  13387  \n2       3.50   2772  \n3       2.71    666  \n4       4.77  14453  \n...      ...    ...  \n193568  2.67   1130  \n193569  3.47   2874  \n193570  3.62   3036  \n193571  2.81    681  \n193572  3.48   2258  \n\n[193573 rows x 11 columns]",
      "text/html": "<div>\n<style scoped>\n    .dataframe tbody tr th:only-of-type {\n        vertical-align: middle;\n    }\n\n    .dataframe tbody tr th {\n        vertical-align: top;\n    }\n\n    .dataframe thead th {\n        text-align: right;\n    }\n</style>\n<table border=\"1\" class=\"dataframe\">\n  <thead>\n    <tr style=\"text-align: right;\">\n      <th></th>\n      <th>id</th>\n      <th>carat</th>\n      <th>cut</th>\n      <th>color</th>\n      <th>clarity</th>\n      <th>depth</th>\n      <th>table</th>\n      <th>x</th>\n      <th>y</th>\n      <th>z</th>\n      <th>price</th>\n    </tr>\n  </thead>\n  <tbody>\n    <tr>\n      <th>0</th>\n      <td>0</td>\n      <td>1.52</td>\n      <td>Premium</td>\n      <td>F</td>\n      <td>VS2</td>\n      <td>62.2</td>\n      <td>58.0</td>\n      <td>7.27</td>\n      <td>7.33</td>\n      <td>4.55</td>\n      <td>13619</td>\n    </tr>\n    <tr>\n      <th>1</th>\n      <td>1</td>\n      <td>2.03</td>\n      <td>Very Good</td>\n      <td>J</td>\n      <td>SI2</td>\n      <td>62.0</td>\n      <td>58.0</td>\n      <td>8.06</td>\n      <td>8.12</td>\n      <td>5.05</td>\n      <td>13387</td>\n    </tr>\n    <tr>\n      <th>2</th>\n      <td>2</td>\n      <td>0.70</td>\n      <td>Ideal</td>\n      <td>G</td>\n      <td>VS1</td>\n      <td>61.2</td>\n      <td>57.0</td>\n      <td>5.69</td>\n      <td>5.73</td>\n      <td>3.50</td>\n      <td>2772</td>\n    </tr>\n    <tr>\n      <th>3</th>\n      <td>3</td>\n      <td>0.32</td>\n      <td>Ideal</td>\n      <td>G</td>\n      <td>VS1</td>\n      <td>61.6</td>\n      <td>56.0</td>\n      <td>4.38</td>\n      <td>4.41</td>\n      <td>2.71</td>\n      <td>666</td>\n    </tr>\n    <tr>\n      <th>4</th>\n      <td>4</td>\n      <td>1.70</td>\n      <td>Premium</td>\n      <td>G</td>\n      <td>VS2</td>\n      <td>62.6</td>\n      <td>59.0</td>\n      <td>7.65</td>\n      <td>7.61</td>\n      <td>4.77</td>\n      <td>14453</td>\n    </tr>\n    <tr>\n      <th>...</th>\n      <td>...</td>\n      <td>...</td>\n      <td>...</td>\n      <td>...</td>\n      <td>...</td>\n      <td>...</td>\n      <td>...</td>\n      <td>...</td>\n      <td>...</td>\n      <td>...</td>\n      <td>...</td>\n    </tr>\n    <tr>\n      <th>193568</th>\n      <td>193568</td>\n      <td>0.31</td>\n      <td>Ideal</td>\n      <td>D</td>\n      <td>VVS2</td>\n      <td>61.1</td>\n      <td>56.0</td>\n      <td>4.35</td>\n      <td>4.39</td>\n      <td>2.67</td>\n      <td>1130</td>\n    </tr>\n    <tr>\n      <th>193569</th>\n      <td>193569</td>\n      <td>0.70</td>\n      <td>Premium</td>\n      <td>G</td>\n      <td>VVS2</td>\n      <td>60.3</td>\n      <td>58.0</td>\n      <td>5.75</td>\n      <td>5.77</td>\n      <td>3.47</td>\n      <td>2874</td>\n    </tr>\n    <tr>\n      <th>193570</th>\n      <td>193570</td>\n      <td>0.73</td>\n      <td>Very Good</td>\n      <td>F</td>\n      <td>SI1</td>\n      <td>63.1</td>\n      <td>57.0</td>\n      <td>5.72</td>\n      <td>5.75</td>\n      <td>3.62</td>\n      <td>3036</td>\n    </tr>\n    <tr>\n      <th>193571</th>\n      <td>193571</td>\n      <td>0.34</td>\n      <td>Very Good</td>\n      <td>D</td>\n      <td>SI1</td>\n      <td>62.9</td>\n      <td>55.0</td>\n      <td>4.45</td>\n      <td>4.49</td>\n      <td>2.81</td>\n      <td>681</td>\n    </tr>\n    <tr>\n      <th>193572</th>\n      <td>193572</td>\n      <td>0.71</td>\n      <td>Good</td>\n      <td>E</td>\n      <td>SI2</td>\n      <td>60.8</td>\n      <td>64.0</td>\n      <td>5.73</td>\n      <td>5.71</td>\n      <td>3.48</td>\n      <td>2258</td>\n    </tr>\n  </tbody>\n</table>\n<p>193573 rows × 11 columns</p>\n</div>"
     },
     "execution_count": 3,
     "metadata": {},
     "output_type": "execute_result"
    }
   ],
   "source": [
    "df"
   ],
   "metadata": {
    "collapsed": false,
    "ExecuteTime": {
     "end_time": "2023-12-20T18:17:52.194150300Z",
     "start_time": "2023-12-20T18:17:52.168130100Z"
    }
   }
  },
  {
   "cell_type": "code",
   "execution_count": 4,
   "outputs": [],
   "source": [
    "df = df.dropna()"
   ],
   "metadata": {
    "collapsed": false,
    "ExecuteTime": {
     "end_time": "2023-12-20T18:17:52.446625500Z",
     "start_time": "2023-12-20T18:17:52.194150300Z"
    }
   }
  },
  {
   "cell_type": "code",
   "execution_count": 5,
   "outputs": [
    {
     "data": {
      "text/plain": "array([[1.52, 'Premium', 'F', ..., 7.27, 7.33, 4.55],\n       [2.03, 'Very Good', 'J', ..., 8.06, 8.12, 5.05],\n       [0.7, 'Ideal', 'G', ..., 5.69, 5.73, 3.5],\n       ...,\n       [0.73, 'Very Good', 'F', ..., 5.72, 5.75, 3.62],\n       [0.34, 'Very Good', 'D', ..., 4.45, 4.49, 2.81],\n       [0.71, 'Good', 'E', ..., 5.73, 5.71, 3.48]], dtype=object)"
     },
     "execution_count": 5,
     "metadata": {},
     "output_type": "execute_result"
    }
   ],
   "source": [
    "x = df.iloc[:, 1:-1].values\n",
    "x"
   ],
   "metadata": {
    "collapsed": false,
    "ExecuteTime": {
     "end_time": "2023-12-20T18:17:52.961240600Z",
     "start_time": "2023-12-20T18:17:52.866766400Z"
    }
   }
  },
  {
   "cell_type": "code",
   "execution_count": 6,
   "outputs": [
    {
     "data": {
      "text/plain": "array([13619, 13387,  2772, ...,  3036,   681,  2258], dtype=int64)"
     },
     "execution_count": 6,
     "metadata": {},
     "output_type": "execute_result"
    }
   ],
   "source": [
    "y = df.iloc[:, -1].values\n",
    "y"
   ],
   "metadata": {
    "collapsed": false,
    "ExecuteTime": {
     "end_time": "2023-12-20T18:17:55.527763600Z",
     "start_time": "2023-12-20T18:17:55.511959100Z"
    }
   }
  },
  {
   "cell_type": "markdown",
   "source": [
    "## Encoding"
   ],
   "metadata": {
    "collapsed": false
   }
  },
  {
   "cell_type": "code",
   "execution_count": 7,
   "outputs": [],
   "source": [
    "from sklearn.preprocessing import OneHotEncoder\n",
    "from sklearn.compose import ColumnTransformer"
   ],
   "metadata": {
    "collapsed": false,
    "ExecuteTime": {
     "end_time": "2023-12-20T18:17:59.947315Z",
     "start_time": "2023-12-20T18:17:59.159440Z"
    }
   }
  },
  {
   "cell_type": "code",
   "execution_count": 8,
   "outputs": [
    {
     "data": {
      "text/plain": "id         0\ncarat      0\ncut        0\ncolor      0\nclarity    0\ndepth      0\ntable      0\nx          0\ny          0\nz          0\nprice      0\ndtype: int64"
     },
     "execution_count": 8,
     "metadata": {},
     "output_type": "execute_result"
    }
   ],
   "source": [
    "df.isnull().sum()"
   ],
   "metadata": {
    "collapsed": false,
    "ExecuteTime": {
     "end_time": "2023-12-20T18:11:20.924762Z",
     "start_time": "2023-12-20T18:11:20.891844500Z"
    }
   }
  },
  {
   "cell_type": "code",
   "execution_count": 8,
   "outputs": [],
   "source": [
    "ct = ColumnTransformer(transformers=[(\"encoder\", OneHotEncoder(), [1,2,3])], remainder=\"passthrough\")"
   ],
   "metadata": {
    "collapsed": false,
    "ExecuteTime": {
     "end_time": "2023-12-20T18:18:02.990987700Z",
     "start_time": "2023-12-20T18:18:02.974966400Z"
    }
   }
  },
  {
   "cell_type": "code",
   "execution_count": 9,
   "outputs": [],
   "source": [
    "x = np.array(ct.fit_transform(x))"
   ],
   "metadata": {
    "collapsed": false,
    "ExecuteTime": {
     "end_time": "2023-12-20T18:18:05.512380500Z",
     "start_time": "2023-12-20T18:18:05.037226900Z"
    }
   }
  },
  {
   "cell_type": "code",
   "execution_count": 10,
   "outputs": [
    {
     "data": {
      "text/plain": "array([[0.0, 0.0, 0.0, ..., 7.27, 7.33, 4.55],\n       [0.0, 0.0, 0.0, ..., 8.06, 8.12, 5.05],\n       [0.0, 0.0, 1.0, ..., 5.69, 5.73, 3.5],\n       ...,\n       [0.0, 0.0, 0.0, ..., 5.72, 5.75, 3.62],\n       [0.0, 0.0, 0.0, ..., 4.45, 4.49, 2.81],\n       [0.0, 1.0, 0.0, ..., 5.73, 5.71, 3.48]], dtype=object)"
     },
     "execution_count": 10,
     "metadata": {},
     "output_type": "execute_result"
    }
   ],
   "source": [
    "x"
   ],
   "metadata": {
    "collapsed": false,
    "ExecuteTime": {
     "end_time": "2023-12-20T18:18:06.811937200Z",
     "start_time": "2023-12-20T18:18:06.794401800Z"
    }
   }
  },
  {
   "cell_type": "markdown",
   "source": [
    "## Train test split"
   ],
   "metadata": {
    "collapsed": false
   }
  },
  {
   "cell_type": "code",
   "execution_count": 11,
   "outputs": [],
   "source": [
    "scores = {}"
   ],
   "metadata": {
    "collapsed": false,
    "ExecuteTime": {
     "end_time": "2023-12-20T18:18:09.815665200Z",
     "start_time": "2023-12-20T18:18:09.799706200Z"
    }
   }
  },
  {
   "cell_type": "markdown",
   "source": [
    "## Decision Tree Regression"
   ],
   "metadata": {
    "collapsed": false
   }
  },
  {
   "cell_type": "code",
   "execution_count": 12,
   "outputs": [],
   "source": [
    "from sklearn.tree import DecisionTreeRegressor"
   ],
   "metadata": {
    "collapsed": false,
    "ExecuteTime": {
     "end_time": "2023-12-20T18:18:12.121523500Z",
     "start_time": "2023-12-20T18:18:11.905725400Z"
    }
   }
  },
  {
   "cell_type": "code",
   "execution_count": 13,
   "outputs": [],
   "source": [
    "decision_tree = DecisionTreeRegressor()"
   ],
   "metadata": {
    "collapsed": false,
    "ExecuteTime": {
     "end_time": "2023-12-20T18:18:13.923070300Z",
     "start_time": "2023-12-20T18:18:13.916957800Z"
    }
   }
  },
  {
   "cell_type": "code",
   "execution_count": 14,
   "outputs": [
    {
     "data": {
      "text/plain": "DecisionTreeRegressor()",
      "text/html": "<style>#sk-container-id-1 {color: black;}#sk-container-id-1 pre{padding: 0;}#sk-container-id-1 div.sk-toggleable {background-color: white;}#sk-container-id-1 label.sk-toggleable__label {cursor: pointer;display: block;width: 100%;margin-bottom: 0;padding: 0.3em;box-sizing: border-box;text-align: center;}#sk-container-id-1 label.sk-toggleable__label-arrow:before {content: \"▸\";float: left;margin-right: 0.25em;color: #696969;}#sk-container-id-1 label.sk-toggleable__label-arrow:hover:before {color: black;}#sk-container-id-1 div.sk-estimator:hover label.sk-toggleable__label-arrow:before {color: black;}#sk-container-id-1 div.sk-toggleable__content {max-height: 0;max-width: 0;overflow: hidden;text-align: left;background-color: #f0f8ff;}#sk-container-id-1 div.sk-toggleable__content pre {margin: 0.2em;color: black;border-radius: 0.25em;background-color: #f0f8ff;}#sk-container-id-1 input.sk-toggleable__control:checked~div.sk-toggleable__content {max-height: 200px;max-width: 100%;overflow: auto;}#sk-container-id-1 input.sk-toggleable__control:checked~label.sk-toggleable__label-arrow:before {content: \"▾\";}#sk-container-id-1 div.sk-estimator input.sk-toggleable__control:checked~label.sk-toggleable__label {background-color: #d4ebff;}#sk-container-id-1 div.sk-label input.sk-toggleable__control:checked~label.sk-toggleable__label {background-color: #d4ebff;}#sk-container-id-1 input.sk-hidden--visually {border: 0;clip: rect(1px 1px 1px 1px);clip: rect(1px, 1px, 1px, 1px);height: 1px;margin: -1px;overflow: hidden;padding: 0;position: absolute;width: 1px;}#sk-container-id-1 div.sk-estimator {font-family: monospace;background-color: #f0f8ff;border: 1px dotted black;border-radius: 0.25em;box-sizing: border-box;margin-bottom: 0.5em;}#sk-container-id-1 div.sk-estimator:hover {background-color: #d4ebff;}#sk-container-id-1 div.sk-parallel-item::after {content: \"\";width: 100%;border-bottom: 1px solid gray;flex-grow: 1;}#sk-container-id-1 div.sk-label:hover label.sk-toggleable__label {background-color: #d4ebff;}#sk-container-id-1 div.sk-serial::before {content: \"\";position: absolute;border-left: 1px solid gray;box-sizing: border-box;top: 0;bottom: 0;left: 50%;z-index: 0;}#sk-container-id-1 div.sk-serial {display: flex;flex-direction: column;align-items: center;background-color: white;padding-right: 0.2em;padding-left: 0.2em;position: relative;}#sk-container-id-1 div.sk-item {position: relative;z-index: 1;}#sk-container-id-1 div.sk-parallel {display: flex;align-items: stretch;justify-content: center;background-color: white;position: relative;}#sk-container-id-1 div.sk-item::before, #sk-container-id-1 div.sk-parallel-item::before {content: \"\";position: absolute;border-left: 1px solid gray;box-sizing: border-box;top: 0;bottom: 0;left: 50%;z-index: -1;}#sk-container-id-1 div.sk-parallel-item {display: flex;flex-direction: column;z-index: 1;position: relative;background-color: white;}#sk-container-id-1 div.sk-parallel-item:first-child::after {align-self: flex-end;width: 50%;}#sk-container-id-1 div.sk-parallel-item:last-child::after {align-self: flex-start;width: 50%;}#sk-container-id-1 div.sk-parallel-item:only-child::after {width: 0;}#sk-container-id-1 div.sk-dashed-wrapped {border: 1px dashed gray;margin: 0 0.4em 0.5em 0.4em;box-sizing: border-box;padding-bottom: 0.4em;background-color: white;}#sk-container-id-1 div.sk-label label {font-family: monospace;font-weight: bold;display: inline-block;line-height: 1.2em;}#sk-container-id-1 div.sk-label-container {text-align: center;}#sk-container-id-1 div.sk-container {/* jupyter's `normalize.less` sets `[hidden] { display: none; }` but bootstrap.min.css set `[hidden] { display: none !important; }` so we also need the `!important` here to be able to override the default hidden behavior on the sphinx rendered scikit-learn.org. See: https://github.com/scikit-learn/scikit-learn/issues/21755 */display: inline-block !important;position: relative;}#sk-container-id-1 div.sk-text-repr-fallback {display: none;}</style><div id=\"sk-container-id-1\" class=\"sk-top-container\"><div class=\"sk-text-repr-fallback\"><pre>DecisionTreeRegressor()</pre><b>In a Jupyter environment, please rerun this cell to show the HTML representation or trust the notebook. <br />On GitHub, the HTML representation is unable to render, please try loading this page with nbviewer.org.</b></div><div class=\"sk-container\" hidden><div class=\"sk-item\"><div class=\"sk-estimator sk-toggleable\"><input class=\"sk-toggleable__control sk-hidden--visually\" id=\"sk-estimator-id-1\" type=\"checkbox\" checked><label for=\"sk-estimator-id-1\" class=\"sk-toggleable__label sk-toggleable__label-arrow\">DecisionTreeRegressor</label><div class=\"sk-toggleable__content\"><pre>DecisionTreeRegressor()</pre></div></div></div></div></div>"
     },
     "execution_count": 14,
     "metadata": {},
     "output_type": "execute_result"
    }
   ],
   "source": [
    "decision_tree.fit(x, y)"
   ],
   "metadata": {
    "collapsed": false,
    "ExecuteTime": {
     "end_time": "2023-12-20T18:18:20.257493300Z",
     "start_time": "2023-12-20T18:18:15.265638100Z"
    }
   }
  },
  {
   "cell_type": "code",
   "execution_count": 15,
   "outputs": [],
   "source": [
    "y_pred = decision_tree.predict(x)"
   ],
   "metadata": {
    "collapsed": false,
    "ExecuteTime": {
     "end_time": "2023-12-20T18:18:20.257493300Z",
     "start_time": "2023-12-20T18:18:19.332966Z"
    }
   }
  },
  {
   "cell_type": "code",
   "execution_count": 16,
   "outputs": [],
   "source": [
    "from sklearn.metrics import r2_score"
   ],
   "metadata": {
    "collapsed": false,
    "ExecuteTime": {
     "end_time": "2023-12-20T18:18:20.382964900Z",
     "start_time": "2023-12-20T18:18:20.257493300Z"
    }
   }
  },
  {
   "cell_type": "code",
   "execution_count": 17,
   "outputs": [
    {
     "data": {
      "text/plain": "0.9999843782555866"
     },
     "execution_count": 17,
     "metadata": {},
     "output_type": "execute_result"
    }
   ],
   "source": [
    "scores.update({\"decision tree\": r2_score(y_true=y, y_pred=y_pred)})\n",
    "r2_score(y_true=y, y_pred=y_pred)"
   ],
   "metadata": {
    "collapsed": false,
    "ExecuteTime": {
     "end_time": "2023-12-20T18:18:20.495794100Z",
     "start_time": "2023-12-20T18:18:20.382964900Z"
    }
   }
  },
  {
   "cell_type": "markdown",
   "source": [
    "## Random Forest Regression"
   ],
   "metadata": {
    "collapsed": false
   }
  },
  {
   "cell_type": "code",
   "execution_count": 18,
   "outputs": [],
   "source": [
    "from sklearn.ensemble import RandomForestRegressor"
   ],
   "metadata": {
    "collapsed": false,
    "ExecuteTime": {
     "end_time": "2023-12-20T18:18:27.432710300Z",
     "start_time": "2023-12-20T18:18:27.384758Z"
    }
   }
  },
  {
   "cell_type": "code",
   "execution_count": 19,
   "outputs": [],
   "source": [
    "random_forest = RandomForestRegressor(n_estimators=10)"
   ],
   "metadata": {
    "collapsed": false,
    "ExecuteTime": {
     "end_time": "2023-12-20T18:18:29.462897800Z",
     "start_time": "2023-12-20T18:18:29.452208Z"
    }
   }
  },
  {
   "cell_type": "code",
   "execution_count": 20,
   "outputs": [],
   "source": [
    "x = pd.DataFrame(x).dropna().values"
   ],
   "metadata": {
    "collapsed": false,
    "ExecuteTime": {
     "end_time": "2023-12-20T18:18:32.365368Z",
     "start_time": "2023-12-20T18:18:31.000983Z"
    }
   }
  },
  {
   "cell_type": "code",
   "execution_count": 21,
   "outputs": [
    {
     "data": {
      "text/plain": "RandomForestRegressor(n_estimators=10)",
      "text/html": "<style>#sk-container-id-2 {color: black;}#sk-container-id-2 pre{padding: 0;}#sk-container-id-2 div.sk-toggleable {background-color: white;}#sk-container-id-2 label.sk-toggleable__label {cursor: pointer;display: block;width: 100%;margin-bottom: 0;padding: 0.3em;box-sizing: border-box;text-align: center;}#sk-container-id-2 label.sk-toggleable__label-arrow:before {content: \"▸\";float: left;margin-right: 0.25em;color: #696969;}#sk-container-id-2 label.sk-toggleable__label-arrow:hover:before {color: black;}#sk-container-id-2 div.sk-estimator:hover label.sk-toggleable__label-arrow:before {color: black;}#sk-container-id-2 div.sk-toggleable__content {max-height: 0;max-width: 0;overflow: hidden;text-align: left;background-color: #f0f8ff;}#sk-container-id-2 div.sk-toggleable__content pre {margin: 0.2em;color: black;border-radius: 0.25em;background-color: #f0f8ff;}#sk-container-id-2 input.sk-toggleable__control:checked~div.sk-toggleable__content {max-height: 200px;max-width: 100%;overflow: auto;}#sk-container-id-2 input.sk-toggleable__control:checked~label.sk-toggleable__label-arrow:before {content: \"▾\";}#sk-container-id-2 div.sk-estimator input.sk-toggleable__control:checked~label.sk-toggleable__label {background-color: #d4ebff;}#sk-container-id-2 div.sk-label input.sk-toggleable__control:checked~label.sk-toggleable__label {background-color: #d4ebff;}#sk-container-id-2 input.sk-hidden--visually {border: 0;clip: rect(1px 1px 1px 1px);clip: rect(1px, 1px, 1px, 1px);height: 1px;margin: -1px;overflow: hidden;padding: 0;position: absolute;width: 1px;}#sk-container-id-2 div.sk-estimator {font-family: monospace;background-color: #f0f8ff;border: 1px dotted black;border-radius: 0.25em;box-sizing: border-box;margin-bottom: 0.5em;}#sk-container-id-2 div.sk-estimator:hover {background-color: #d4ebff;}#sk-container-id-2 div.sk-parallel-item::after {content: \"\";width: 100%;border-bottom: 1px solid gray;flex-grow: 1;}#sk-container-id-2 div.sk-label:hover label.sk-toggleable__label {background-color: #d4ebff;}#sk-container-id-2 div.sk-serial::before {content: \"\";position: absolute;border-left: 1px solid gray;box-sizing: border-box;top: 0;bottom: 0;left: 50%;z-index: 0;}#sk-container-id-2 div.sk-serial {display: flex;flex-direction: column;align-items: center;background-color: white;padding-right: 0.2em;padding-left: 0.2em;position: relative;}#sk-container-id-2 div.sk-item {position: relative;z-index: 1;}#sk-container-id-2 div.sk-parallel {display: flex;align-items: stretch;justify-content: center;background-color: white;position: relative;}#sk-container-id-2 div.sk-item::before, #sk-container-id-2 div.sk-parallel-item::before {content: \"\";position: absolute;border-left: 1px solid gray;box-sizing: border-box;top: 0;bottom: 0;left: 50%;z-index: -1;}#sk-container-id-2 div.sk-parallel-item {display: flex;flex-direction: column;z-index: 1;position: relative;background-color: white;}#sk-container-id-2 div.sk-parallel-item:first-child::after {align-self: flex-end;width: 50%;}#sk-container-id-2 div.sk-parallel-item:last-child::after {align-self: flex-start;width: 50%;}#sk-container-id-2 div.sk-parallel-item:only-child::after {width: 0;}#sk-container-id-2 div.sk-dashed-wrapped {border: 1px dashed gray;margin: 0 0.4em 0.5em 0.4em;box-sizing: border-box;padding-bottom: 0.4em;background-color: white;}#sk-container-id-2 div.sk-label label {font-family: monospace;font-weight: bold;display: inline-block;line-height: 1.2em;}#sk-container-id-2 div.sk-label-container {text-align: center;}#sk-container-id-2 div.sk-container {/* jupyter's `normalize.less` sets `[hidden] { display: none; }` but bootstrap.min.css set `[hidden] { display: none !important; }` so we also need the `!important` here to be able to override the default hidden behavior on the sphinx rendered scikit-learn.org. See: https://github.com/scikit-learn/scikit-learn/issues/21755 */display: inline-block !important;position: relative;}#sk-container-id-2 div.sk-text-repr-fallback {display: none;}</style><div id=\"sk-container-id-2\" class=\"sk-top-container\"><div class=\"sk-text-repr-fallback\"><pre>RandomForestRegressor(n_estimators=10)</pre><b>In a Jupyter environment, please rerun this cell to show the HTML representation or trust the notebook. <br />On GitHub, the HTML representation is unable to render, please try loading this page with nbviewer.org.</b></div><div class=\"sk-container\" hidden><div class=\"sk-item\"><div class=\"sk-estimator sk-toggleable\"><input class=\"sk-toggleable__control sk-hidden--visually\" id=\"sk-estimator-id-2\" type=\"checkbox\" checked><label for=\"sk-estimator-id-2\" class=\"sk-toggleable__label sk-toggleable__label-arrow\">RandomForestRegressor</label><div class=\"sk-toggleable__content\"><pre>RandomForestRegressor(n_estimators=10)</pre></div></div></div></div></div>"
     },
     "execution_count": 21,
     "metadata": {},
     "output_type": "execute_result"
    }
   ],
   "source": [
    "random_forest.fit(x, y)"
   ],
   "metadata": {
    "collapsed": false,
    "ExecuteTime": {
     "end_time": "2023-12-20T18:19:09.509108500Z",
     "start_time": "2023-12-20T18:18:33.395110900Z"
    }
   }
  },
  {
   "cell_type": "code",
   "execution_count": 22,
   "outputs": [],
   "source": [
    "y_pred_2 = random_forest.predict(x)"
   ],
   "metadata": {
    "collapsed": false,
    "ExecuteTime": {
     "end_time": "2023-12-20T18:19:15.051284700Z",
     "start_time": "2023-12-20T18:19:12.506764900Z"
    }
   }
  },
  {
   "cell_type": "code",
   "execution_count": 23,
   "outputs": [
    {
     "data": {
      "text/plain": "0.9956263944814805"
     },
     "execution_count": 23,
     "metadata": {},
     "output_type": "execute_result"
    }
   ],
   "source": [
    "scores.update({\"random forest\": r2_score(y_true=y, y_pred=y_pred_2)})\n",
    "r2_score(y_true=y, y_pred=y_pred_2)"
   ],
   "metadata": {
    "collapsed": false,
    "ExecuteTime": {
     "end_time": "2023-12-20T18:19:16.285058900Z",
     "start_time": "2023-12-20T18:19:16.205995500Z"
    }
   }
  },
  {
   "cell_type": "markdown",
   "source": [
    "## Support Vector Regression"
   ],
   "metadata": {
    "collapsed": false
   }
  },
  {
   "cell_type": "code",
   "execution_count": 25,
   "outputs": [],
   "source": [
    "from sklearn.svm import SVR"
   ],
   "metadata": {
    "collapsed": false,
    "ExecuteTime": {
     "end_time": "2023-12-20T18:11:50.597902700Z",
     "start_time": "2023-12-20T18:11:49.648639100Z"
    }
   }
  },
  {
   "cell_type": "code",
   "execution_count": 26,
   "outputs": [],
   "source": [
    "from sklearn.preprocessing import StandardScaler"
   ],
   "metadata": {
    "collapsed": false,
    "ExecuteTime": {
     "end_time": "2023-12-20T18:11:50.787582700Z",
     "start_time": "2023-12-20T18:11:50.597902700Z"
    }
   }
  },
  {
   "cell_type": "code",
   "execution_count": 27,
   "outputs": [],
   "source": [
    "scale_x = StandardScaler()\n",
    "scale_y = StandardScaler()"
   ],
   "metadata": {
    "collapsed": false,
    "ExecuteTime": {
     "end_time": "2023-12-20T18:11:50.905888700Z",
     "start_time": "2023-12-20T18:11:50.787582700Z"
    }
   }
  },
  {
   "cell_type": "code",
   "execution_count": 28,
   "outputs": [],
   "source": [
    "scaled_x = scale_x.fit_transform(x)\n",
    "scaled_y = scale_y.fit_transform(y.reshape(-1,1))"
   ],
   "metadata": {
    "collapsed": false,
    "ExecuteTime": {
     "end_time": "2023-12-20T18:11:51.575337800Z",
     "start_time": "2023-12-20T18:11:50.905888700Z"
    }
   }
  },
  {
   "cell_type": "code",
   "execution_count": 29,
   "outputs": [
    {
     "data": {
      "text/plain": "array([[-0.10271641, -0.25273373, -0.956195  , ...,  1.40135286,\n         1.4604562 ,  1.47441384],\n       [-0.10271641, -0.25273373, -0.956195  , ...,  2.11343711,\n         2.17711958,  2.20018717],\n       [-0.10271641, -0.25273373,  1.04581178, ..., -0.02281563,\n         0.00898607, -0.04971015],\n       ...,\n       [-0.10271641, -0.25273373, -0.956195  , ...,  0.00422554,\n         0.02712944,  0.12447544],\n       [-0.10271641, -0.25273373, -0.956195  , ..., -1.14051749,\n        -1.11590329, -1.05127735],\n       [-0.10271641,  3.95673339, -0.956195  , ...,  0.01323926,\n        -0.00915731, -0.07874109]])"
     },
     "execution_count": 29,
     "metadata": {},
     "output_type": "execute_result"
    }
   ],
   "source": [
    "scaled_x"
   ],
   "metadata": {
    "collapsed": false,
    "ExecuteTime": {
     "end_time": "2023-12-20T18:11:51.583352500Z",
     "start_time": "2023-12-20T18:11:51.578847Z"
    }
   }
  },
  {
   "cell_type": "code",
   "execution_count": 30,
   "outputs": [
    {
     "data": {
      "text/plain": "array([[ 2.3919124 ],\n       [ 2.33440643],\n       [-0.29673958],\n       ...,\n       [-0.23130176],\n       [-0.81503693],\n       [-0.42414505]])"
     },
     "execution_count": 30,
     "metadata": {},
     "output_type": "execute_result"
    }
   ],
   "source": [
    "scaled_y"
   ],
   "metadata": {
    "collapsed": false,
    "ExecuteTime": {
     "end_time": "2023-12-20T18:11:51.725176200Z",
     "start_time": "2023-12-20T18:11:51.583352500Z"
    }
   }
  },
  {
   "cell_type": "code",
   "execution_count": 31,
   "outputs": [],
   "source": [
    "svr = SVR(kernel=\"rbf\")"
   ],
   "metadata": {
    "collapsed": false,
    "ExecuteTime": {
     "end_time": "2023-12-20T18:11:51.828224800Z",
     "start_time": "2023-12-20T18:11:51.725176200Z"
    }
   }
  },
  {
   "cell_type": "code",
   "execution_count": null,
   "outputs": [
    {
     "name": "stderr",
     "output_type": "stream",
     "text": [
      "C:\\Users\\Sunandan\\DataspellProjects\\tryout\\venv\\Lib\\site-packages\\sklearn\\utils\\validation.py:1183: DataConversionWarning: A column-vector y was passed when a 1d array was expected. Please change the shape of y to (n_samples, ), for example using ravel().\n",
      "  y = column_or_1d(y, warn=True)\n"
     ]
    }
   ],
   "source": [
    "svr.fit(scaled_x, scaled_y)"
   ],
   "metadata": {
    "collapsed": false,
    "is_executing": true,
    "ExecuteTime": {
     "start_time": "2023-12-20T18:11:51.828224800Z"
    }
   }
  },
  {
   "cell_type": "code",
   "execution_count": null,
   "outputs": [],
   "source": [
    "y_pred_3 = scale_y.inverse_transform(\n",
    "    svr.predict(\n",
    "        scale_x.fit_transform(\n",
    "            x)).reshape(-1,1))"
   ],
   "metadata": {
    "collapsed": false,
    "is_executing": true
   }
  },
  {
   "cell_type": "code",
   "execution_count": null,
   "outputs": [],
   "source": [
    "scores.update({\"SVR\": r2_score(y_pred=y_pred_3, y_true=scale_y.inverse_transform(y))})\n",
    "r2_score(y_pred=y_pred_3, y_true=scale_y.inverse_transform(y))"
   ],
   "metadata": {
    "collapsed": false,
    "is_executing": true
   }
  },
  {
   "cell_type": "code",
   "execution_count": null,
   "outputs": [],
   "source": [
    "plt.plot(range(1, len(y) + 1), scale_y.inverse_transform(y), color=\"blue\")\n",
    "plt.plot(range(1, len(y) + 1), y_pred_3, color=\"orange\")"
   ],
   "metadata": {
    "collapsed": false,
    "is_executing": true
   }
  },
  {
   "cell_type": "markdown",
   "source": [
    "## Polynomial Regression"
   ],
   "metadata": {
    "collapsed": false
   }
  },
  {
   "cell_type": "code",
   "execution_count": 24,
   "outputs": [],
   "source": [
    "from sklearn.preprocessing import PolynomialFeatures"
   ],
   "metadata": {
    "collapsed": false,
    "ExecuteTime": {
     "end_time": "2023-12-20T18:19:25.244718600Z",
     "start_time": "2023-12-20T18:19:25.240171700Z"
    }
   }
  },
  {
   "cell_type": "code",
   "execution_count": 25,
   "outputs": [],
   "source": [
    "poly = PolynomialFeatures(degree=2)"
   ],
   "metadata": {
    "collapsed": false,
    "ExecuteTime": {
     "end_time": "2023-12-20T18:19:26.793011200Z",
     "start_time": "2023-12-20T18:19:26.761064900Z"
    }
   }
  },
  {
   "cell_type": "code",
   "execution_count": 26,
   "outputs": [],
   "source": [
    "x_poly = poly.fit_transform(x)"
   ],
   "metadata": {
    "collapsed": false,
    "ExecuteTime": {
     "end_time": "2023-12-20T18:19:30.857084700Z",
     "start_time": "2023-12-20T18:19:28.117612100Z"
    }
   }
  },
  {
   "cell_type": "code",
   "execution_count": 27,
   "outputs": [],
   "source": [
    "from sklearn.linear_model import LinearRegression"
   ],
   "metadata": {
    "collapsed": false,
    "ExecuteTime": {
     "end_time": "2023-12-20T18:19:31.617680500Z",
     "start_time": "2023-12-20T18:19:31.475491500Z"
    }
   }
  },
  {
   "cell_type": "code",
   "execution_count": 28,
   "outputs": [],
   "source": [
    "poly_regressor = LinearRegression()"
   ],
   "metadata": {
    "collapsed": false,
    "ExecuteTime": {
     "end_time": "2023-12-20T18:19:33.866832300Z",
     "start_time": "2023-12-20T18:19:33.819519900Z"
    }
   }
  },
  {
   "cell_type": "code",
   "execution_count": 29,
   "outputs": [
    {
     "data": {
      "text/plain": "LinearRegression()",
      "text/html": "<style>#sk-container-id-3 {color: black;}#sk-container-id-3 pre{padding: 0;}#sk-container-id-3 div.sk-toggleable {background-color: white;}#sk-container-id-3 label.sk-toggleable__label {cursor: pointer;display: block;width: 100%;margin-bottom: 0;padding: 0.3em;box-sizing: border-box;text-align: center;}#sk-container-id-3 label.sk-toggleable__label-arrow:before {content: \"▸\";float: left;margin-right: 0.25em;color: #696969;}#sk-container-id-3 label.sk-toggleable__label-arrow:hover:before {color: black;}#sk-container-id-3 div.sk-estimator:hover label.sk-toggleable__label-arrow:before {color: black;}#sk-container-id-3 div.sk-toggleable__content {max-height: 0;max-width: 0;overflow: hidden;text-align: left;background-color: #f0f8ff;}#sk-container-id-3 div.sk-toggleable__content pre {margin: 0.2em;color: black;border-radius: 0.25em;background-color: #f0f8ff;}#sk-container-id-3 input.sk-toggleable__control:checked~div.sk-toggleable__content {max-height: 200px;max-width: 100%;overflow: auto;}#sk-container-id-3 input.sk-toggleable__control:checked~label.sk-toggleable__label-arrow:before {content: \"▾\";}#sk-container-id-3 div.sk-estimator input.sk-toggleable__control:checked~label.sk-toggleable__label {background-color: #d4ebff;}#sk-container-id-3 div.sk-label input.sk-toggleable__control:checked~label.sk-toggleable__label {background-color: #d4ebff;}#sk-container-id-3 input.sk-hidden--visually {border: 0;clip: rect(1px 1px 1px 1px);clip: rect(1px, 1px, 1px, 1px);height: 1px;margin: -1px;overflow: hidden;padding: 0;position: absolute;width: 1px;}#sk-container-id-3 div.sk-estimator {font-family: monospace;background-color: #f0f8ff;border: 1px dotted black;border-radius: 0.25em;box-sizing: border-box;margin-bottom: 0.5em;}#sk-container-id-3 div.sk-estimator:hover {background-color: #d4ebff;}#sk-container-id-3 div.sk-parallel-item::after {content: \"\";width: 100%;border-bottom: 1px solid gray;flex-grow: 1;}#sk-container-id-3 div.sk-label:hover label.sk-toggleable__label {background-color: #d4ebff;}#sk-container-id-3 div.sk-serial::before {content: \"\";position: absolute;border-left: 1px solid gray;box-sizing: border-box;top: 0;bottom: 0;left: 50%;z-index: 0;}#sk-container-id-3 div.sk-serial {display: flex;flex-direction: column;align-items: center;background-color: white;padding-right: 0.2em;padding-left: 0.2em;position: relative;}#sk-container-id-3 div.sk-item {position: relative;z-index: 1;}#sk-container-id-3 div.sk-parallel {display: flex;align-items: stretch;justify-content: center;background-color: white;position: relative;}#sk-container-id-3 div.sk-item::before, #sk-container-id-3 div.sk-parallel-item::before {content: \"\";position: absolute;border-left: 1px solid gray;box-sizing: border-box;top: 0;bottom: 0;left: 50%;z-index: -1;}#sk-container-id-3 div.sk-parallel-item {display: flex;flex-direction: column;z-index: 1;position: relative;background-color: white;}#sk-container-id-3 div.sk-parallel-item:first-child::after {align-self: flex-end;width: 50%;}#sk-container-id-3 div.sk-parallel-item:last-child::after {align-self: flex-start;width: 50%;}#sk-container-id-3 div.sk-parallel-item:only-child::after {width: 0;}#sk-container-id-3 div.sk-dashed-wrapped {border: 1px dashed gray;margin: 0 0.4em 0.5em 0.4em;box-sizing: border-box;padding-bottom: 0.4em;background-color: white;}#sk-container-id-3 div.sk-label label {font-family: monospace;font-weight: bold;display: inline-block;line-height: 1.2em;}#sk-container-id-3 div.sk-label-container {text-align: center;}#sk-container-id-3 div.sk-container {/* jupyter's `normalize.less` sets `[hidden] { display: none; }` but bootstrap.min.css set `[hidden] { display: none !important; }` so we also need the `!important` here to be able to override the default hidden behavior on the sphinx rendered scikit-learn.org. See: https://github.com/scikit-learn/scikit-learn/issues/21755 */display: inline-block !important;position: relative;}#sk-container-id-3 div.sk-text-repr-fallback {display: none;}</style><div id=\"sk-container-id-3\" class=\"sk-top-container\"><div class=\"sk-text-repr-fallback\"><pre>LinearRegression()</pre><b>In a Jupyter environment, please rerun this cell to show the HTML representation or trust the notebook. <br />On GitHub, the HTML representation is unable to render, please try loading this page with nbviewer.org.</b></div><div class=\"sk-container\" hidden><div class=\"sk-item\"><div class=\"sk-estimator sk-toggleable\"><input class=\"sk-toggleable__control sk-hidden--visually\" id=\"sk-estimator-id-3\" type=\"checkbox\" checked><label for=\"sk-estimator-id-3\" class=\"sk-toggleable__label sk-toggleable__label-arrow\">LinearRegression</label><div class=\"sk-toggleable__content\"><pre>LinearRegression()</pre></div></div></div></div></div>"
     },
     "execution_count": 29,
     "metadata": {},
     "output_type": "execute_result"
    }
   ],
   "source": [
    "poly_regressor.fit(x,y)"
   ],
   "metadata": {
    "collapsed": false,
    "ExecuteTime": {
     "end_time": "2023-12-20T18:19:37.237678600Z",
     "start_time": "2023-12-20T18:19:35.631356100Z"
    }
   }
  },
  {
   "cell_type": "code",
   "execution_count": 30,
   "outputs": [],
   "source": [
    "y_pred_4 = poly_regressor.predict(x)"
   ],
   "metadata": {
    "collapsed": false,
    "ExecuteTime": {
     "end_time": "2023-12-20T18:19:40.505437Z",
     "start_time": "2023-12-20T18:19:39.763436800Z"
    }
   }
  },
  {
   "cell_type": "code",
   "execution_count": 31,
   "outputs": [
    {
     "data": {
      "text/plain": "0.9445187495282248"
     },
     "execution_count": 31,
     "metadata": {},
     "output_type": "execute_result"
    }
   ],
   "source": [
    "scores.update({\"Polynomial regression\": r2_score(y_true=y, y_pred=y_pred_4)})\n",
    "r2_score(y_true=y, y_pred=y_pred_4)"
   ],
   "metadata": {
    "collapsed": false,
    "ExecuteTime": {
     "end_time": "2023-12-20T18:19:43.942916900Z",
     "start_time": "2023-12-20T18:19:43.911196600Z"
    }
   }
  },
  {
   "cell_type": "markdown",
   "source": [
    "## Multiple Linear Regression"
   ],
   "metadata": {
    "collapsed": false
   }
  },
  {
   "cell_type": "code",
   "execution_count": 32,
   "outputs": [],
   "source": [
    "multiple_regression = LinearRegression()"
   ],
   "metadata": {
    "collapsed": false,
    "ExecuteTime": {
     "end_time": "2023-12-20T18:19:47.194984300Z",
     "start_time": "2023-12-20T18:19:47.163399800Z"
    }
   }
  },
  {
   "cell_type": "code",
   "execution_count": 33,
   "outputs": [
    {
     "data": {
      "text/plain": "LinearRegression()",
      "text/html": "<style>#sk-container-id-4 {color: black;}#sk-container-id-4 pre{padding: 0;}#sk-container-id-4 div.sk-toggleable {background-color: white;}#sk-container-id-4 label.sk-toggleable__label {cursor: pointer;display: block;width: 100%;margin-bottom: 0;padding: 0.3em;box-sizing: border-box;text-align: center;}#sk-container-id-4 label.sk-toggleable__label-arrow:before {content: \"▸\";float: left;margin-right: 0.25em;color: #696969;}#sk-container-id-4 label.sk-toggleable__label-arrow:hover:before {color: black;}#sk-container-id-4 div.sk-estimator:hover label.sk-toggleable__label-arrow:before {color: black;}#sk-container-id-4 div.sk-toggleable__content {max-height: 0;max-width: 0;overflow: hidden;text-align: left;background-color: #f0f8ff;}#sk-container-id-4 div.sk-toggleable__content pre {margin: 0.2em;color: black;border-radius: 0.25em;background-color: #f0f8ff;}#sk-container-id-4 input.sk-toggleable__control:checked~div.sk-toggleable__content {max-height: 200px;max-width: 100%;overflow: auto;}#sk-container-id-4 input.sk-toggleable__control:checked~label.sk-toggleable__label-arrow:before {content: \"▾\";}#sk-container-id-4 div.sk-estimator input.sk-toggleable__control:checked~label.sk-toggleable__label {background-color: #d4ebff;}#sk-container-id-4 div.sk-label input.sk-toggleable__control:checked~label.sk-toggleable__label {background-color: #d4ebff;}#sk-container-id-4 input.sk-hidden--visually {border: 0;clip: rect(1px 1px 1px 1px);clip: rect(1px, 1px, 1px, 1px);height: 1px;margin: -1px;overflow: hidden;padding: 0;position: absolute;width: 1px;}#sk-container-id-4 div.sk-estimator {font-family: monospace;background-color: #f0f8ff;border: 1px dotted black;border-radius: 0.25em;box-sizing: border-box;margin-bottom: 0.5em;}#sk-container-id-4 div.sk-estimator:hover {background-color: #d4ebff;}#sk-container-id-4 div.sk-parallel-item::after {content: \"\";width: 100%;border-bottom: 1px solid gray;flex-grow: 1;}#sk-container-id-4 div.sk-label:hover label.sk-toggleable__label {background-color: #d4ebff;}#sk-container-id-4 div.sk-serial::before {content: \"\";position: absolute;border-left: 1px solid gray;box-sizing: border-box;top: 0;bottom: 0;left: 50%;z-index: 0;}#sk-container-id-4 div.sk-serial {display: flex;flex-direction: column;align-items: center;background-color: white;padding-right: 0.2em;padding-left: 0.2em;position: relative;}#sk-container-id-4 div.sk-item {position: relative;z-index: 1;}#sk-container-id-4 div.sk-parallel {display: flex;align-items: stretch;justify-content: center;background-color: white;position: relative;}#sk-container-id-4 div.sk-item::before, #sk-container-id-4 div.sk-parallel-item::before {content: \"\";position: absolute;border-left: 1px solid gray;box-sizing: border-box;top: 0;bottom: 0;left: 50%;z-index: -1;}#sk-container-id-4 div.sk-parallel-item {display: flex;flex-direction: column;z-index: 1;position: relative;background-color: white;}#sk-container-id-4 div.sk-parallel-item:first-child::after {align-self: flex-end;width: 50%;}#sk-container-id-4 div.sk-parallel-item:last-child::after {align-self: flex-start;width: 50%;}#sk-container-id-4 div.sk-parallel-item:only-child::after {width: 0;}#sk-container-id-4 div.sk-dashed-wrapped {border: 1px dashed gray;margin: 0 0.4em 0.5em 0.4em;box-sizing: border-box;padding-bottom: 0.4em;background-color: white;}#sk-container-id-4 div.sk-label label {font-family: monospace;font-weight: bold;display: inline-block;line-height: 1.2em;}#sk-container-id-4 div.sk-label-container {text-align: center;}#sk-container-id-4 div.sk-container {/* jupyter's `normalize.less` sets `[hidden] { display: none; }` but bootstrap.min.css set `[hidden] { display: none !important; }` so we also need the `!important` here to be able to override the default hidden behavior on the sphinx rendered scikit-learn.org. See: https://github.com/scikit-learn/scikit-learn/issues/21755 */display: inline-block !important;position: relative;}#sk-container-id-4 div.sk-text-repr-fallback {display: none;}</style><div id=\"sk-container-id-4\" class=\"sk-top-container\"><div class=\"sk-text-repr-fallback\"><pre>LinearRegression()</pre><b>In a Jupyter environment, please rerun this cell to show the HTML representation or trust the notebook. <br />On GitHub, the HTML representation is unable to render, please try loading this page with nbviewer.org.</b></div><div class=\"sk-container\" hidden><div class=\"sk-item\"><div class=\"sk-estimator sk-toggleable\"><input class=\"sk-toggleable__control sk-hidden--visually\" id=\"sk-estimator-id-4\" type=\"checkbox\" checked><label for=\"sk-estimator-id-4\" class=\"sk-toggleable__label sk-toggleable__label-arrow\">LinearRegression</label><div class=\"sk-toggleable__content\"><pre>LinearRegression()</pre></div></div></div></div></div>"
     },
     "execution_count": 33,
     "metadata": {},
     "output_type": "execute_result"
    }
   ],
   "source": [
    "multiple_regression.fit(x, y)"
   ],
   "metadata": {
    "collapsed": false,
    "ExecuteTime": {
     "end_time": "2023-12-20T18:19:51.183876400Z",
     "start_time": "2023-12-20T18:19:49.701799400Z"
    }
   }
  },
  {
   "cell_type": "code",
   "execution_count": 34,
   "outputs": [],
   "source": [
    "y_pred_5 = multiple_regression.predict(x)"
   ],
   "metadata": {
    "collapsed": false,
    "ExecuteTime": {
     "end_time": "2023-12-20T18:19:51.788414800Z",
     "start_time": "2023-12-20T18:19:51.372094600Z"
    }
   }
  },
  {
   "cell_type": "code",
   "execution_count": 35,
   "outputs": [
    {
     "data": {
      "text/plain": "0.9445187495282248"
     },
     "execution_count": 35,
     "metadata": {},
     "output_type": "execute_result"
    }
   ],
   "source": [
    "scores.update({\"multiple regression\": r2_score(y_pred=y_pred_5, y_true=y)})\n",
    "r2_score(y_pred=y_pred_5, y_true=y)"
   ],
   "metadata": {
    "collapsed": false,
    "ExecuteTime": {
     "end_time": "2023-12-20T18:19:53.333087500Z",
     "start_time": "2023-12-20T18:19:53.284773800Z"
    }
   }
  },
  {
   "cell_type": "markdown",
   "source": [
    "## Verdict"
   ],
   "metadata": {
    "collapsed": false
   }
  },
  {
   "cell_type": "code",
   "execution_count": 36,
   "outputs": [
    {
     "data": {
      "text/plain": "{'decision tree': 0.9999843782555866,\n 'random forest': 0.9956263944814805,\n 'Polynomial regression': 0.9445187495282248,\n 'multiple regression': 0.9445187495282248}"
     },
     "execution_count": 36,
     "metadata": {},
     "output_type": "execute_result"
    }
   ],
   "source": [
    "scores"
   ],
   "metadata": {
    "collapsed": false,
    "ExecuteTime": {
     "end_time": "2023-12-20T18:19:59.691889700Z",
     "start_time": "2023-12-20T18:19:59.660348200Z"
    }
   }
  },
  {
   "cell_type": "code",
   "execution_count": 37,
   "outputs": [
    {
     "name": "stdout",
     "output_type": "stream",
     "text": [
      "name : decision tree, score : 0.9999843782555866\n"
     ]
    }
   ],
   "source": [
    "max = 0\n",
    "name = \"\"\n",
    "for key in scores:\n",
    "    if(scores[key] > max):\n",
    "        max = scores[key]\n",
    "        name = key\n",
    "print(f\"name : {name}, score : {max}\")"
   ],
   "metadata": {
    "collapsed": false,
    "ExecuteTime": {
     "end_time": "2023-12-20T18:20:03.710818300Z",
     "start_time": "2023-12-20T18:20:03.679140700Z"
    }
   }
  },
  {
   "cell_type": "markdown",
   "source": [
    "## Test dataset"
   ],
   "metadata": {
    "collapsed": false
   }
  },
  {
   "cell_type": "code",
   "execution_count": 57,
   "outputs": [],
   "source": [
    "test_df = pd.read_csv(\"test.csv\")"
   ],
   "metadata": {
    "collapsed": false,
    "ExecuteTime": {
     "end_time": "2023-12-20T18:30:19.915955300Z",
     "start_time": "2023-12-20T18:30:19.692971700Z"
    }
   }
  },
  {
   "cell_type": "code",
   "execution_count": 47,
   "outputs": [
    {
     "data": {
      "text/plain": "            id  carat        cut color clarity  depth  table     x     y     z\n0       193573   0.35      Ideal     D     VS2   62.3   56.0  4.51  4.54  2.82\n1       193574   0.77  Very Good     F     SI2   62.8   56.0  5.83  5.87  3.68\n2       193575   0.71      Ideal     I     VS2   61.9   53.0  5.77  5.74  3.55\n3       193576   0.33      Ideal     G    VVS2   61.6   55.0  4.44  4.42  2.73\n4       193577   1.20  Very Good     I     VS2   62.7   56.0  6.75  6.79  4.24\n...        ...    ...        ...   ...     ...    ...    ...   ...   ...   ...\n129045  322618   0.72      Ideal     D    VVS2   62.0   56.0  5.75  5.78  3.57\n129046  322619   0.70    Premium     D     SI1   59.6   62.0  5.77  5.74  3.43\n129047  322620   1.01    Premium     G    VVS2   62.3   58.0  6.44  6.41  4.01\n129048  322621   1.35      Ideal     D      I1   62.0   56.0  7.05  7.08  4.38\n129049  322622   1.07    Premium     H     SI2   62.6   60.0  6.49  6.45  4.06\n\n[129050 rows x 10 columns]",
      "text/html": "<div>\n<style scoped>\n    .dataframe tbody tr th:only-of-type {\n        vertical-align: middle;\n    }\n\n    .dataframe tbody tr th {\n        vertical-align: top;\n    }\n\n    .dataframe thead th {\n        text-align: right;\n    }\n</style>\n<table border=\"1\" class=\"dataframe\">\n  <thead>\n    <tr style=\"text-align: right;\">\n      <th></th>\n      <th>id</th>\n      <th>carat</th>\n      <th>cut</th>\n      <th>color</th>\n      <th>clarity</th>\n      <th>depth</th>\n      <th>table</th>\n      <th>x</th>\n      <th>y</th>\n      <th>z</th>\n    </tr>\n  </thead>\n  <tbody>\n    <tr>\n      <th>0</th>\n      <td>193573</td>\n      <td>0.35</td>\n      <td>Ideal</td>\n      <td>D</td>\n      <td>VS2</td>\n      <td>62.3</td>\n      <td>56.0</td>\n      <td>4.51</td>\n      <td>4.54</td>\n      <td>2.82</td>\n    </tr>\n    <tr>\n      <th>1</th>\n      <td>193574</td>\n      <td>0.77</td>\n      <td>Very Good</td>\n      <td>F</td>\n      <td>SI2</td>\n      <td>62.8</td>\n      <td>56.0</td>\n      <td>5.83</td>\n      <td>5.87</td>\n      <td>3.68</td>\n    </tr>\n    <tr>\n      <th>2</th>\n      <td>193575</td>\n      <td>0.71</td>\n      <td>Ideal</td>\n      <td>I</td>\n      <td>VS2</td>\n      <td>61.9</td>\n      <td>53.0</td>\n      <td>5.77</td>\n      <td>5.74</td>\n      <td>3.55</td>\n    </tr>\n    <tr>\n      <th>3</th>\n      <td>193576</td>\n      <td>0.33</td>\n      <td>Ideal</td>\n      <td>G</td>\n      <td>VVS2</td>\n      <td>61.6</td>\n      <td>55.0</td>\n      <td>4.44</td>\n      <td>4.42</td>\n      <td>2.73</td>\n    </tr>\n    <tr>\n      <th>4</th>\n      <td>193577</td>\n      <td>1.20</td>\n      <td>Very Good</td>\n      <td>I</td>\n      <td>VS2</td>\n      <td>62.7</td>\n      <td>56.0</td>\n      <td>6.75</td>\n      <td>6.79</td>\n      <td>4.24</td>\n    </tr>\n    <tr>\n      <th>...</th>\n      <td>...</td>\n      <td>...</td>\n      <td>...</td>\n      <td>...</td>\n      <td>...</td>\n      <td>...</td>\n      <td>...</td>\n      <td>...</td>\n      <td>...</td>\n      <td>...</td>\n    </tr>\n    <tr>\n      <th>129045</th>\n      <td>322618</td>\n      <td>0.72</td>\n      <td>Ideal</td>\n      <td>D</td>\n      <td>VVS2</td>\n      <td>62.0</td>\n      <td>56.0</td>\n      <td>5.75</td>\n      <td>5.78</td>\n      <td>3.57</td>\n    </tr>\n    <tr>\n      <th>129046</th>\n      <td>322619</td>\n      <td>0.70</td>\n      <td>Premium</td>\n      <td>D</td>\n      <td>SI1</td>\n      <td>59.6</td>\n      <td>62.0</td>\n      <td>5.77</td>\n      <td>5.74</td>\n      <td>3.43</td>\n    </tr>\n    <tr>\n      <th>129047</th>\n      <td>322620</td>\n      <td>1.01</td>\n      <td>Premium</td>\n      <td>G</td>\n      <td>VVS2</td>\n      <td>62.3</td>\n      <td>58.0</td>\n      <td>6.44</td>\n      <td>6.41</td>\n      <td>4.01</td>\n    </tr>\n    <tr>\n      <th>129048</th>\n      <td>322621</td>\n      <td>1.35</td>\n      <td>Ideal</td>\n      <td>D</td>\n      <td>I1</td>\n      <td>62.0</td>\n      <td>56.0</td>\n      <td>7.05</td>\n      <td>7.08</td>\n      <td>4.38</td>\n    </tr>\n    <tr>\n      <th>129049</th>\n      <td>322622</td>\n      <td>1.07</td>\n      <td>Premium</td>\n      <td>H</td>\n      <td>SI2</td>\n      <td>62.6</td>\n      <td>60.0</td>\n      <td>6.49</td>\n      <td>6.45</td>\n      <td>4.06</td>\n    </tr>\n  </tbody>\n</table>\n<p>129050 rows × 10 columns</p>\n</div>"
     },
     "execution_count": 47,
     "metadata": {},
     "output_type": "execute_result"
    }
   ],
   "source": [
    "test_df"
   ],
   "metadata": {
    "collapsed": false,
    "ExecuteTime": {
     "end_time": "2023-12-20T18:27:49.562077100Z",
     "start_time": "2023-12-20T18:27:49.326213300Z"
    }
   }
  },
  {
   "cell_type": "code",
   "execution_count": 58,
   "outputs": [
    {
     "data": {
      "text/plain": "array([[0.35, 'Ideal', 'D', ..., 4.51, 4.54, 2.82],\n       [0.77, 'Very Good', 'F', ..., 5.83, 5.87, 3.68],\n       [0.71, 'Ideal', 'I', ..., 5.77, 5.74, 3.55],\n       ...,\n       [1.01, 'Premium', 'G', ..., 6.44, 6.41, 4.01],\n       [1.35, 'Ideal', 'D', ..., 7.05, 7.08, 4.38],\n       [1.07, 'Premium', 'H', ..., 6.49, 6.45, 4.06]], dtype=object)"
     },
     "execution_count": 58,
     "metadata": {},
     "output_type": "execute_result"
    }
   ],
   "source": [
    "test_df = test_df.iloc[:,1:].values\n",
    "test_df"
   ],
   "metadata": {
    "collapsed": false,
    "ExecuteTime": {
     "end_time": "2023-12-20T18:30:22.407025700Z",
     "start_time": "2023-12-20T18:30:22.296945700Z"
    }
   }
  },
  {
   "cell_type": "code",
   "execution_count": 62,
   "outputs": [],
   "source": [
    "test_df = ct.fit_transform(test_df)"
   ],
   "metadata": {
    "collapsed": false,
    "ExecuteTime": {
     "end_time": "2023-12-20T18:33:22.192708500Z",
     "start_time": "2023-12-20T18:33:21.874928100Z"
    }
   }
  },
  {
   "cell_type": "code",
   "execution_count": 63,
   "outputs": [],
   "source": [
    "pred = decision_tree.predict(test_df)"
   ],
   "metadata": {
    "collapsed": false,
    "ExecuteTime": {
     "end_time": "2023-12-20T18:33:25.875933300Z",
     "start_time": "2023-12-20T18:33:23.717478200Z"
    }
   }
  },
  {
   "cell_type": "code",
   "execution_count": 69,
   "outputs": [],
   "source": [
    "id = pd.read_csv(\"test.csv\").iloc[:,0]"
   ],
   "metadata": {
    "collapsed": false,
    "ExecuteTime": {
     "end_time": "2023-12-20T18:37:40.019040200Z",
     "start_time": "2023-12-20T18:37:39.771256600Z"
    }
   }
  },
  {
   "cell_type": "code",
   "execution_count": 70,
   "outputs": [
    {
     "data": {
      "text/plain": "0         193573\n1         193574\n2         193575\n3         193576\n4         193577\n           ...  \n129045    322618\n129046    322619\n129047    322620\n129048    322621\n129049    322622\nName: id, Length: 129050, dtype: int64"
     },
     "execution_count": 70,
     "metadata": {},
     "output_type": "execute_result"
    }
   ],
   "source": [
    "id"
   ],
   "metadata": {
    "collapsed": false,
    "ExecuteTime": {
     "end_time": "2023-12-20T18:37:47.478212600Z",
     "start_time": "2023-12-20T18:37:47.415291100Z"
    }
   }
  },
  {
   "cell_type": "code",
   "execution_count": 84,
   "outputs": [],
   "source": [
    "answer = pd.DataFrame([id,pred])"
   ],
   "metadata": {
    "collapsed": false,
    "ExecuteTime": {
     "end_time": "2023-12-20T18:40:43.399705500Z",
     "start_time": "2023-12-20T18:40:42.180668700Z"
    }
   }
  },
  {
   "cell_type": "code",
   "execution_count": 85,
   "outputs": [
    {
     "data": {
      "text/plain": "             0         1         2         3         4         5       \\\nid         193573.0  193574.0  193575.0  193576.0  193577.0  193578.0   \nUnnamed 0     868.0    2375.0    2217.0     730.0    5645.0     605.0   \n\n             6         7         8         9       ...    129040    129041  \\\nid         193579.0  193580.0  193581.0  193582.0  ...  322613.0  322614.0   \nUnnamed 0   14103.0    3480.0   15287.0    1550.0  ...    2705.0    1002.0   \n\n             129042    129043    129044    129045    129046    129047  \\\nid         322615.0  322616.0  322617.0  322618.0  322619.0  322620.0   \nUnnamed 0    3390.0     731.0    4516.0    3729.0    2559.0    7839.0   \n\n             129048    129049  \nid         322621.0  322622.0  \nUnnamed 0    3328.0    4284.0  \n\n[2 rows x 129050 columns]",
      "text/html": "<div>\n<style scoped>\n    .dataframe tbody tr th:only-of-type {\n        vertical-align: middle;\n    }\n\n    .dataframe tbody tr th {\n        vertical-align: top;\n    }\n\n    .dataframe thead th {\n        text-align: right;\n    }\n</style>\n<table border=\"1\" class=\"dataframe\">\n  <thead>\n    <tr style=\"text-align: right;\">\n      <th></th>\n      <th>0</th>\n      <th>1</th>\n      <th>2</th>\n      <th>3</th>\n      <th>4</th>\n      <th>5</th>\n      <th>6</th>\n      <th>7</th>\n      <th>8</th>\n      <th>9</th>\n      <th>...</th>\n      <th>129040</th>\n      <th>129041</th>\n      <th>129042</th>\n      <th>129043</th>\n      <th>129044</th>\n      <th>129045</th>\n      <th>129046</th>\n      <th>129047</th>\n      <th>129048</th>\n      <th>129049</th>\n    </tr>\n  </thead>\n  <tbody>\n    <tr>\n      <th>id</th>\n      <td>193573.0</td>\n      <td>193574.0</td>\n      <td>193575.0</td>\n      <td>193576.0</td>\n      <td>193577.0</td>\n      <td>193578.0</td>\n      <td>193579.0</td>\n      <td>193580.0</td>\n      <td>193581.0</td>\n      <td>193582.0</td>\n      <td>...</td>\n      <td>322613.0</td>\n      <td>322614.0</td>\n      <td>322615.0</td>\n      <td>322616.0</td>\n      <td>322617.0</td>\n      <td>322618.0</td>\n      <td>322619.0</td>\n      <td>322620.0</td>\n      <td>322621.0</td>\n      <td>322622.0</td>\n    </tr>\n    <tr>\n      <th>Unnamed 0</th>\n      <td>868.0</td>\n      <td>2375.0</td>\n      <td>2217.0</td>\n      <td>730.0</td>\n      <td>5645.0</td>\n      <td>605.0</td>\n      <td>14103.0</td>\n      <td>3480.0</td>\n      <td>15287.0</td>\n      <td>1550.0</td>\n      <td>...</td>\n      <td>2705.0</td>\n      <td>1002.0</td>\n      <td>3390.0</td>\n      <td>731.0</td>\n      <td>4516.0</td>\n      <td>3729.0</td>\n      <td>2559.0</td>\n      <td>7839.0</td>\n      <td>3328.0</td>\n      <td>4284.0</td>\n    </tr>\n  </tbody>\n</table>\n<p>2 rows × 129050 columns</p>\n</div>"
     },
     "execution_count": 85,
     "metadata": {},
     "output_type": "execute_result"
    }
   ],
   "source": [
    "answer"
   ],
   "metadata": {
    "collapsed": false,
    "ExecuteTime": {
     "end_time": "2023-12-20T18:40:44.001027900Z",
     "start_time": "2023-12-20T18:40:43.946096800Z"
    }
   }
  },
  {
   "cell_type": "markdown",
   "source": [],
   "metadata": {
    "collapsed": false
   }
  }
 ],
 "metadata": {
  "kernelspec": {
   "display_name": "Python 3",
   "language": "python",
   "name": "python3"
  },
  "language_info": {
   "codemirror_mode": {
    "name": "ipython",
    "version": 2
   },
   "file_extension": ".py",
   "mimetype": "text/x-python",
   "name": "python",
   "nbconvert_exporter": "python",
   "pygments_lexer": "ipython2",
   "version": "2.7.6"
  }
 },
 "nbformat": 4,
 "nbformat_minor": 0
}
